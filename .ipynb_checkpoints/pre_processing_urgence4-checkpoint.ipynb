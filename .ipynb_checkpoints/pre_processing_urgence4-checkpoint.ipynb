{
 "cells": [
  {
   "cell_type": "code",
   "execution_count": 1,
   "id": "collectible-throw",
   "metadata": {
    "id": "bsAzNhhrDEkG"
   },
   "outputs": [],
   "source": [
    "import pandas as pd\n",
    "import numpy as np\n",
    "import matplotlib.pyplot as plt\n",
    "import seaborn as sns\n",
    "\n",
    "import pickle\n",
    "from joblib import dump, load\n",
    "\n",
    "import datetime\n",
    "import time\n",
    "from datetime import datetime\n",
    "\n",
    "sns.set_theme()\n",
    "%matplotlib inline"
   ]
  },
  {
   "cell_type": "markdown",
   "id": "french-bearing",
   "metadata": {
    "id": "-cawchUbDEkI"
   },
   "source": [
    "# 1 - Étude du  1er Dataset : les arrivées aux urgences 2016-2021"
   ]
  },
  {
   "cell_type": "code",
   "execution_count": 2,
   "id": "destroyed-retirement",
   "metadata": {
    "id": "q4Rou1s2DEkI",
    "outputId": "0e3584f6-1b22-41e8-f216-fcbb6dcf8aa0"
   },
   "outputs": [
    {
     "data": {
      "text/html": [
       "<div>\n",
       "<style scoped>\n",
       "    .dataframe tbody tr th:only-of-type {\n",
       "        vertical-align: middle;\n",
       "    }\n",
       "\n",
       "    .dataframe tbody tr th {\n",
       "        vertical-align: top;\n",
       "    }\n",
       "\n",
       "    .dataframe thead th {\n",
       "        text-align: right;\n",
       "    }\n",
       "</style>\n",
       "<table border=\"1\" class=\"dataframe\">\n",
       "  <thead>\n",
       "    <tr style=\"text-align: right;\">\n",
       "      <th></th>\n",
       "      <th>CODE</th>\n",
       "      <th>DATE_ENT_1</th>\n",
       "      <th>ANNEE</th>\n",
       "      <th>MOIS</th>\n",
       "      <th>HEURE</th>\n",
       "      <th>MIN</th>\n",
       "      <th>age</th>\n",
       "      <th>DECISION</th>\n",
       "      <th>TRI</th>\n",
       "      <th>LIBELLE</th>\n",
       "      <th>DEB_CS</th>\n",
       "      <th>FIN_CS</th>\n",
       "      <th>SEXE</th>\n",
       "      <th>DATE_SOR</th>\n",
       "      <th>H_SOR</th>\n",
       "      <th>HM_SOR</th>\n",
       "    </tr>\n",
       "    <tr>\n",
       "      <th>INDEX</th>\n",
       "      <th></th>\n",
       "      <th></th>\n",
       "      <th></th>\n",
       "      <th></th>\n",
       "      <th></th>\n",
       "      <th></th>\n",
       "      <th></th>\n",
       "      <th></th>\n",
       "      <th></th>\n",
       "      <th></th>\n",
       "      <th></th>\n",
       "      <th></th>\n",
       "      <th></th>\n",
       "      <th></th>\n",
       "      <th></th>\n",
       "      <th></th>\n",
       "    </tr>\n",
       "  </thead>\n",
       "  <tbody>\n",
       "    <tr>\n",
       "      <th>211808</th>\n",
       "      <td>T601</td>\n",
       "      <td>02/01/2016</td>\n",
       "      <td>2016</td>\n",
       "      <td>1</td>\n",
       "      <td>20</td>\n",
       "      <td>11</td>\n",
       "      <td>85.997260</td>\n",
       "      <td>Patient admis</td>\n",
       "      <td>2</td>\n",
       "      <td>2-Atteinte organe , traum severe</td>\n",
       "      <td>NaN</td>\n",
       "      <td>2.020000e+11</td>\n",
       "      <td>F</td>\n",
       "      <td>02/01/2016</td>\n",
       "      <td>21</td>\n",
       "      <td>2154</td>\n",
       "    </tr>\n",
       "    <tr>\n",
       "      <th>230325</th>\n",
       "      <td>T601</td>\n",
       "      <td>28/02/2016</td>\n",
       "      <td>2016</td>\n",
       "      <td>2</td>\n",
       "      <td>9</td>\n",
       "      <td>29</td>\n",
       "      <td>86.150685</td>\n",
       "      <td>Patient non admis</td>\n",
       "      <td>4</td>\n",
       "      <td>4-Att fonction. lésion stable</td>\n",
       "      <td>NaN</td>\n",
       "      <td>2.020000e+11</td>\n",
       "      <td>F</td>\n",
       "      <td>28/02/2016</td>\n",
       "      <td>10</td>\n",
       "      <td>1002</td>\n",
       "    </tr>\n",
       "    <tr>\n",
       "      <th>224126</th>\n",
       "      <td>T601</td>\n",
       "      <td>10/02/2016</td>\n",
       "      <td>2016</td>\n",
       "      <td>2</td>\n",
       "      <td>18</td>\n",
       "      <td>30</td>\n",
       "      <td>86.172603</td>\n",
       "      <td>Patient non admis</td>\n",
       "      <td>5</td>\n",
       "      <td>5-pas de lesion fonctionnelle</td>\n",
       "      <td>NaN</td>\n",
       "      <td>2.020000e+11</td>\n",
       "      <td>F</td>\n",
       "      <td>11/02/2016</td>\n",
       "      <td>1</td>\n",
       "      <td>118</td>\n",
       "    </tr>\n",
       "    <tr>\n",
       "      <th>217870</th>\n",
       "      <td>T601</td>\n",
       "      <td>09/01/2016</td>\n",
       "      <td>2016</td>\n",
       "      <td>1</td>\n",
       "      <td>16</td>\n",
       "      <td>17</td>\n",
       "      <td>86.194521</td>\n",
       "      <td>Patient admis</td>\n",
       "      <td>4</td>\n",
       "      <td>4-Att fonction. lésion stable</td>\n",
       "      <td>NaN</td>\n",
       "      <td>2.020000e+11</td>\n",
       "      <td>F</td>\n",
       "      <td>09/01/2016</td>\n",
       "      <td>18</td>\n",
       "      <td>1845</td>\n",
       "    </tr>\n",
       "    <tr>\n",
       "      <th>218392</th>\n",
       "      <td>T601</td>\n",
       "      <td>28/02/2016</td>\n",
       "      <td>2016</td>\n",
       "      <td>2</td>\n",
       "      <td>4</td>\n",
       "      <td>27</td>\n",
       "      <td>86.246575</td>\n",
       "      <td>Patient admis</td>\n",
       "      <td>3A</td>\n",
       "      <td>3A-3B + comorbidité/med traitant</td>\n",
       "      <td>NaN</td>\n",
       "      <td>2.020000e+11</td>\n",
       "      <td>M</td>\n",
       "      <td>28/02/2016</td>\n",
       "      <td>8</td>\n",
       "      <td>815</td>\n",
       "    </tr>\n",
       "  </tbody>\n",
       "</table>\n",
       "</div>"
      ],
      "text/plain": [
       "        CODE  DATE_ENT_1  ANNEE  MOIS  HEURE  MIN        age  \\\n",
       "INDEX                                                          \n",
       "211808  T601  02/01/2016   2016     1     20   11  85.997260   \n",
       "230325  T601  28/02/2016   2016     2      9   29  86.150685   \n",
       "224126  T601  10/02/2016   2016     2     18   30  86.172603   \n",
       "217870  T601  09/01/2016   2016     1     16   17  86.194521   \n",
       "218392  T601  28/02/2016   2016     2      4   27  86.246575   \n",
       "\n",
       "                 DECISION TRI                           LIBELLE  DEB_CS  \\\n",
       "INDEX                                                                     \n",
       "211808      Patient admis   2  2-Atteinte organe , traum severe     NaN   \n",
       "230325  Patient non admis   4     4-Att fonction. lésion stable     NaN   \n",
       "224126  Patient non admis   5     5-pas de lesion fonctionnelle     NaN   \n",
       "217870      Patient admis   4     4-Att fonction. lésion stable     NaN   \n",
       "218392      Patient admis  3A  3A-3B + comorbidité/med traitant     NaN   \n",
       "\n",
       "              FIN_CS SEXE    DATE_SOR  H_SOR  HM_SOR  \n",
       "INDEX                                                 \n",
       "211808  2.020000e+11    F  02/01/2016     21    2154  \n",
       "230325  2.020000e+11    F  28/02/2016     10    1002  \n",
       "224126  2.020000e+11    F  11/02/2016      1     118  \n",
       "217870  2.020000e+11    F  09/01/2016     18    1845  \n",
       "218392  2.020000e+11    M  28/02/2016      8     815  "
      ]
     },
     "execution_count": 2,
     "metadata": {},
     "output_type": "execute_result"
    }
   ],
   "source": [
    "urgences = pd.read_csv(\"data/urgences4.csv\", index_col=0, sep=\";\", encoding=\"ISO-8859–1\")\n",
    "urgences.head()"
   ]
  },
  {
   "cell_type": "markdown",
   "id": "searching-dispatch",
   "metadata": {
    "id": "57sCbQoADEkJ"
   },
   "source": [
    "Copie du dataset dans un autre DataFrame pour ne jamais le modifier accidentellement "
   ]
  },
  {
   "cell_type": "code",
   "execution_count": 3,
   "id": "departmental-circular",
   "metadata": {
    "id": "QVzvSnB0DEkK"
   },
   "outputs": [],
   "source": [
    "df = urgences.copy()"
   ]
  },
  {
   "cell_type": "code",
   "execution_count": 4,
   "id": "compact-albert",
   "metadata": {},
   "outputs": [
    {
     "data": {
      "text/plain": [
       "(250681, 16)"
      ]
     },
     "execution_count": 4,
     "metadata": {},
     "output_type": "execute_result"
    }
   ],
   "source": [
    "df.shape"
   ]
  },
  {
   "cell_type": "code",
   "execution_count": 5,
   "id": "exceptional-wyoming",
   "metadata": {},
   "outputs": [
    {
     "data": {
      "text/plain": [
       "CODE           object\n",
       "DATE_ENT_1     object\n",
       "ANNEE           int64\n",
       "MOIS            int64\n",
       "HEURE           int64\n",
       "MIN             int64\n",
       "age           float64\n",
       "DECISION       object\n",
       "TRI            object\n",
       "LIBELLE        object\n",
       "DEB_CS        float64\n",
       "FIN_CS        float64\n",
       "SEXE           object\n",
       "DATE_SOR       object\n",
       "H_SOR           int64\n",
       "HM_SOR          int64\n",
       "dtype: object"
      ]
     },
     "execution_count": 5,
     "metadata": {},
     "output_type": "execute_result"
    }
   ],
   "source": [
    "df.dtypes"
   ]
  },
  {
   "cell_type": "markdown",
   "id": "paperback-riding",
   "metadata": {
    "id": "Oo1ie06pDEkK"
   },
   "source": [
    "## 1a Gestion des doublons"
   ]
  },
  {
   "cell_type": "code",
   "execution_count": 6,
   "id": "incorporated-increase",
   "metadata": {
    "id": "hydXViLXDEkK",
    "outputId": "85c177ee-6311-453f-b25f-f918f9341872"
   },
   "outputs": [
    {
     "data": {
      "text/html": [
       "<div>\n",
       "<style scoped>\n",
       "    .dataframe tbody tr th:only-of-type {\n",
       "        vertical-align: middle;\n",
       "    }\n",
       "\n",
       "    .dataframe tbody tr th {\n",
       "        vertical-align: top;\n",
       "    }\n",
       "\n",
       "    .dataframe thead th {\n",
       "        text-align: right;\n",
       "    }\n",
       "</style>\n",
       "<table border=\"1\" class=\"dataframe\">\n",
       "  <thead>\n",
       "    <tr style=\"text-align: right;\">\n",
       "      <th></th>\n",
       "      <th>CODE</th>\n",
       "      <th>DATE_ENT_1</th>\n",
       "      <th>ANNEE</th>\n",
       "      <th>MOIS</th>\n",
       "      <th>HEURE</th>\n",
       "      <th>MIN</th>\n",
       "      <th>age</th>\n",
       "      <th>DECISION</th>\n",
       "      <th>TRI</th>\n",
       "      <th>LIBELLE</th>\n",
       "      <th>DEB_CS</th>\n",
       "      <th>FIN_CS</th>\n",
       "      <th>SEXE</th>\n",
       "      <th>DATE_SOR</th>\n",
       "      <th>H_SOR</th>\n",
       "      <th>HM_SOR</th>\n",
       "    </tr>\n",
       "    <tr>\n",
       "      <th>INDEX</th>\n",
       "      <th></th>\n",
       "      <th></th>\n",
       "      <th></th>\n",
       "      <th></th>\n",
       "      <th></th>\n",
       "      <th></th>\n",
       "      <th></th>\n",
       "      <th></th>\n",
       "      <th></th>\n",
       "      <th></th>\n",
       "      <th></th>\n",
       "      <th></th>\n",
       "      <th></th>\n",
       "      <th></th>\n",
       "      <th></th>\n",
       "      <th></th>\n",
       "    </tr>\n",
       "  </thead>\n",
       "  <tbody>\n",
       "    <tr>\n",
       "      <th>233489</th>\n",
       "      <td>T602</td>\n",
       "      <td>28/02/2016</td>\n",
       "      <td>2016</td>\n",
       "      <td>2</td>\n",
       "      <td>16</td>\n",
       "      <td>42</td>\n",
       "      <td>0.413699</td>\n",
       "      <td>Patient non admis</td>\n",
       "      <td>NaN</td>\n",
       "      <td>NaN</td>\n",
       "      <td>NaN</td>\n",
       "      <td>2.020000e+11</td>\n",
       "      <td>M</td>\n",
       "      <td>28/02/2016</td>\n",
       "      <td>16</td>\n",
       "      <td>1643</td>\n",
       "    </tr>\n",
       "    <tr>\n",
       "      <th>228377</th>\n",
       "      <td>T602</td>\n",
       "      <td>30/06/2016</td>\n",
       "      <td>2016</td>\n",
       "      <td>6</td>\n",
       "      <td>1</td>\n",
       "      <td>47</td>\n",
       "      <td>0.849315</td>\n",
       "      <td>Patient non admis</td>\n",
       "      <td>NaN</td>\n",
       "      <td>NaN</td>\n",
       "      <td>NaN</td>\n",
       "      <td>2.020000e+11</td>\n",
       "      <td>M</td>\n",
       "      <td>30/06/2016</td>\n",
       "      <td>1</td>\n",
       "      <td>148</td>\n",
       "    </tr>\n",
       "    <tr>\n",
       "      <th>107465</th>\n",
       "      <td>T602</td>\n",
       "      <td>10/04/2019</td>\n",
       "      <td>2019</td>\n",
       "      <td>4</td>\n",
       "      <td>21</td>\n",
       "      <td>56</td>\n",
       "      <td>1.000000</td>\n",
       "      <td>Patient non admis</td>\n",
       "      <td>5</td>\n",
       "      <td>5-pas de lesion fonctionnelle</td>\n",
       "      <td>2.020000e+11</td>\n",
       "      <td>2.020000e+11</td>\n",
       "      <td>M</td>\n",
       "      <td>10/04/2019</td>\n",
       "      <td>21</td>\n",
       "      <td>2157</td>\n",
       "    </tr>\n",
       "    <tr>\n",
       "      <th>215219</th>\n",
       "      <td>T602</td>\n",
       "      <td>24/01/2016</td>\n",
       "      <td>2016</td>\n",
       "      <td>1</td>\n",
       "      <td>4</td>\n",
       "      <td>17</td>\n",
       "      <td>1.123288</td>\n",
       "      <td>Patient non admis</td>\n",
       "      <td>NaN</td>\n",
       "      <td>NaN</td>\n",
       "      <td>NaN</td>\n",
       "      <td>2.020000e+11</td>\n",
       "      <td>F</td>\n",
       "      <td>24/01/2016</td>\n",
       "      <td>4</td>\n",
       "      <td>418</td>\n",
       "    </tr>\n",
       "    <tr>\n",
       "      <th>18812</th>\n",
       "      <td>T602</td>\n",
       "      <td>22/05/2017</td>\n",
       "      <td>2017</td>\n",
       "      <td>5</td>\n",
       "      <td>18</td>\n",
       "      <td>46</td>\n",
       "      <td>4.800000</td>\n",
       "      <td>Patient non admis</td>\n",
       "      <td>5</td>\n",
       "      <td>5-pas de lesion fonctionnelle</td>\n",
       "      <td>2.020000e+11</td>\n",
       "      <td>2.020000e+11</td>\n",
       "      <td>F</td>\n",
       "      <td>22/05/2017</td>\n",
       "      <td>18</td>\n",
       "      <td>1847</td>\n",
       "    </tr>\n",
       "    <tr>\n",
       "      <th>52848</th>\n",
       "      <td>T602</td>\n",
       "      <td>28/02/2018</td>\n",
       "      <td>2018</td>\n",
       "      <td>2</td>\n",
       "      <td>10</td>\n",
       "      <td>1</td>\n",
       "      <td>5.400000</td>\n",
       "      <td>Patient non admis</td>\n",
       "      <td>4</td>\n",
       "      <td>4-Att fonction. lésion stable</td>\n",
       "      <td>2.020000e+11</td>\n",
       "      <td>2.020000e+11</td>\n",
       "      <td>F</td>\n",
       "      <td>28/02/2018</td>\n",
       "      <td>13</td>\n",
       "      <td>1342</td>\n",
       "    </tr>\n",
       "    <tr>\n",
       "      <th>222132</th>\n",
       "      <td>T602</td>\n",
       "      <td>20/05/2016</td>\n",
       "      <td>2016</td>\n",
       "      <td>5</td>\n",
       "      <td>16</td>\n",
       "      <td>42</td>\n",
       "      <td>21.876712</td>\n",
       "      <td>Patient non admis</td>\n",
       "      <td>NaN</td>\n",
       "      <td>NaN</td>\n",
       "      <td>NaN</td>\n",
       "      <td>2.020000e+11</td>\n",
       "      <td>F</td>\n",
       "      <td>20/05/2016</td>\n",
       "      <td>19</td>\n",
       "      <td>1920</td>\n",
       "    </tr>\n",
       "    <tr>\n",
       "      <th>88413</th>\n",
       "      <td>T601</td>\n",
       "      <td>26/11/2018</td>\n",
       "      <td>2018</td>\n",
       "      <td>11</td>\n",
       "      <td>15</td>\n",
       "      <td>36</td>\n",
       "      <td>24.900000</td>\n",
       "      <td>Patient admis</td>\n",
       "      <td>NaN</td>\n",
       "      <td>NaN</td>\n",
       "      <td>2.020000e+11</td>\n",
       "      <td>2.020000e+11</td>\n",
       "      <td>M</td>\n",
       "      <td>26/11/2018</td>\n",
       "      <td>16</td>\n",
       "      <td>1606</td>\n",
       "    </tr>\n",
       "    <tr>\n",
       "      <th>234285</th>\n",
       "      <td>T602</td>\n",
       "      <td>11/06/2016</td>\n",
       "      <td>2016</td>\n",
       "      <td>6</td>\n",
       "      <td>12</td>\n",
       "      <td>5</td>\n",
       "      <td>27.556164</td>\n",
       "      <td>Patient non admis</td>\n",
       "      <td>NaN</td>\n",
       "      <td>NaN</td>\n",
       "      <td>NaN</td>\n",
       "      <td>2.020000e+11</td>\n",
       "      <td>F</td>\n",
       "      <td>11/06/2016</td>\n",
       "      <td>12</td>\n",
       "      <td>1212</td>\n",
       "    </tr>\n",
       "    <tr>\n",
       "      <th>201410</th>\n",
       "      <td>T601</td>\n",
       "      <td>05/06/2016</td>\n",
       "      <td>2016</td>\n",
       "      <td>6</td>\n",
       "      <td>2</td>\n",
       "      <td>20</td>\n",
       "      <td>30.235616</td>\n",
       "      <td>Patient admis</td>\n",
       "      <td>NaN</td>\n",
       "      <td>NaN</td>\n",
       "      <td>NaN</td>\n",
       "      <td>2.020000e+11</td>\n",
       "      <td>M</td>\n",
       "      <td>05/06/2016</td>\n",
       "      <td>15</td>\n",
       "      <td>1557</td>\n",
       "    </tr>\n",
       "    <tr>\n",
       "      <th>95610</th>\n",
       "      <td>T601</td>\n",
       "      <td>21/01/2019</td>\n",
       "      <td>2019</td>\n",
       "      <td>1</td>\n",
       "      <td>17</td>\n",
       "      <td>50</td>\n",
       "      <td>36.900000</td>\n",
       "      <td>Patient non admis</td>\n",
       "      <td>4</td>\n",
       "      <td>4-Att fonction. lésion stable</td>\n",
       "      <td>2.020000e+11</td>\n",
       "      <td>2.020000e+11</td>\n",
       "      <td>F</td>\n",
       "      <td>21/01/2019</td>\n",
       "      <td>17</td>\n",
       "      <td>1751</td>\n",
       "    </tr>\n",
       "  </tbody>\n",
       "</table>\n",
       "</div>"
      ],
      "text/plain": [
       "        CODE  DATE_ENT_1  ANNEE  MOIS  HEURE  MIN        age  \\\n",
       "INDEX                                                          \n",
       "233489  T602  28/02/2016   2016     2     16   42   0.413699   \n",
       "228377  T602  30/06/2016   2016     6      1   47   0.849315   \n",
       "107465  T602  10/04/2019   2019     4     21   56   1.000000   \n",
       "215219  T602  24/01/2016   2016     1      4   17   1.123288   \n",
       "18812   T602  22/05/2017   2017     5     18   46   4.800000   \n",
       "52848   T602  28/02/2018   2018     2     10    1   5.400000   \n",
       "222132  T602  20/05/2016   2016     5     16   42  21.876712   \n",
       "88413   T601  26/11/2018   2018    11     15   36  24.900000   \n",
       "234285  T602  11/06/2016   2016     6     12    5  27.556164   \n",
       "201410  T601  05/06/2016   2016     6      2   20  30.235616   \n",
       "95610   T601  21/01/2019   2019     1     17   50  36.900000   \n",
       "\n",
       "                 DECISION  TRI                        LIBELLE        DEB_CS  \\\n",
       "INDEX                                                                         \n",
       "233489  Patient non admis  NaN                            NaN           NaN   \n",
       "228377  Patient non admis  NaN                            NaN           NaN   \n",
       "107465  Patient non admis    5  5-pas de lesion fonctionnelle  2.020000e+11   \n",
       "215219  Patient non admis  NaN                            NaN           NaN   \n",
       "18812   Patient non admis    5  5-pas de lesion fonctionnelle  2.020000e+11   \n",
       "52848   Patient non admis    4  4-Att fonction. lésion stable  2.020000e+11   \n",
       "222132  Patient non admis  NaN                            NaN           NaN   \n",
       "88413       Patient admis  NaN                            NaN  2.020000e+11   \n",
       "234285  Patient non admis  NaN                            NaN           NaN   \n",
       "201410      Patient admis  NaN                            NaN           NaN   \n",
       "95610   Patient non admis    4  4-Att fonction. lésion stable  2.020000e+11   \n",
       "\n",
       "              FIN_CS SEXE    DATE_SOR  H_SOR  HM_SOR  \n",
       "INDEX                                                 \n",
       "233489  2.020000e+11    M  28/02/2016     16    1643  \n",
       "228377  2.020000e+11    M  30/06/2016      1     148  \n",
       "107465  2.020000e+11    M  10/04/2019     21    2157  \n",
       "215219  2.020000e+11    F  24/01/2016      4     418  \n",
       "18812   2.020000e+11    F  22/05/2017     18    1847  \n",
       "52848   2.020000e+11    F  28/02/2018     13    1342  \n",
       "222132  2.020000e+11    F  20/05/2016     19    1920  \n",
       "88413   2.020000e+11    M  26/11/2018     16    1606  \n",
       "234285  2.020000e+11    F  11/06/2016     12    1212  \n",
       "201410  2.020000e+11    M  05/06/2016     15    1557  \n",
       "95610   2.020000e+11    F  21/01/2019     17    1751  "
      ]
     },
     "execution_count": 6,
     "metadata": {},
     "output_type": "execute_result"
    }
   ],
   "source": [
    "df[df.duplicated()==True]"
   ]
  },
  {
   "cell_type": "code",
   "execution_count": 7,
   "id": "military-flower",
   "metadata": {
    "id": "Sg7y4BObDEkK",
    "outputId": "60e1e68a-7c3c-4b7a-93b3-abd276e4bfb0"
   },
   "outputs": [
    {
     "data": {
      "text/plain": [
       "11"
      ]
     },
     "execution_count": 7,
     "metadata": {},
     "output_type": "execute_result"
    }
   ],
   "source": [
    "df[df.duplicated()==True].shape[0]"
   ]
  },
  {
   "cell_type": "code",
   "execution_count": 8,
   "id": "stainless-portsmouth",
   "metadata": {
    "id": "FSWdMFr_DEkL"
   },
   "outputs": [],
   "source": [
    "df.drop_duplicates(keep=\"first\", inplace=True)"
   ]
  },
  {
   "cell_type": "markdown",
   "id": "heated-soccer",
   "metadata": {},
   "source": [
    "## 1b Libellés et variables catégorielles"
   ]
  },
  {
   "cell_type": "markdown",
   "id": "present-removal",
   "metadata": {},
   "source": [
    "Travail sur les libellés, qui correspondent aussi aux tri des patients,\n",
    "selon un niveau de gravité estimé par l'infirmière d'accueil.\n",
    "\n",
    "Remarque : La décision d'hospitalisation ou non est prise par le médecin, à la fin de la consultation"
   ]
  },
  {
   "cell_type": "code",
   "execution_count": 9,
   "id": "sunrise-horizon",
   "metadata": {
    "id": "fSH5Qv_PDEkL",
    "outputId": "48ed1c82-5869-4ca4-8550-7cdfda3f55c5"
   },
   "outputs": [
    {
     "data": {
      "text/plain": [
       "array(['2-Atteinte organe , traum severe',\n",
       "       '4-Att fonction. lésion stable', '5-pas de lesion fonctionnelle',\n",
       "       '3A-3B + comorbidité/med traitant', nan, '1-Détresse vitale',\n",
       "       '2 Ped - Urgent  ', '3 Ped - Moins urgent', '1 Ped - Très urgent',\n",
       "       '0 Ped - Réanimation immédiate',\n",
       "       '3B-Organe partiel traum instable'], dtype=object)"
      ]
     },
     "execution_count": 9,
     "metadata": {},
     "output_type": "execute_result"
    }
   ],
   "source": [
    "df.LIBELLE.unique()"
   ]
  },
  {
   "cell_type": "code",
   "execution_count": 10,
   "id": "popular-persian",
   "metadata": {
    "id": "JI5BZcjzDEkN",
    "outputId": "a6693c54-feeb-4f38-b8ed-fb49fe809ed9"
   },
   "outputs": [
    {
     "data": {
      "text/plain": [
       "4-Att fonction. lésion stable       31.497073\n",
       "5-pas de lesion fonctionnelle       27.475959\n",
       "3A-3B + comorbidité/med traitant    14.185045\n",
       "3 Ped - Moins urgent                12.660928\n",
       "3B-Organe partiel traum instable     8.253273\n",
       "2-Atteinte organe , traum severe     3.514874\n",
       "2 Ped - Urgent                       1.982207\n",
       "1-Détresse vitale                    0.301944\n",
       "1 Ped - Très urgent                  0.123747\n",
       "0 Ped - Réanimation immédiate        0.004950\n",
       "Name: LIBELLE, dtype: float64"
      ]
     },
     "execution_count": 10,
     "metadata": {},
     "output_type": "execute_result"
    }
   ],
   "source": [
    "df.LIBELLE.value_counts(normalize=True)*100"
   ]
  },
  {
   "cell_type": "markdown",
   "id": "human-boundary",
   "metadata": {},
   "source": [
    "On va regrouper des niveaux de gravité, pour avoir une meilleure représentativité.\n",
    "\n",
    "Puis on va définir un libellé plus court utilisable directement dans les graphiques."
   ]
  },
  {
   "cell_type": "code",
   "execution_count": 11,
   "id": "controlling-circle",
   "metadata": {
    "id": "mU8lNUtBDEkN"
   },
   "outputs": [],
   "source": [
    "df.LIBELLE.replace(to_replace = ['5-pas de lesion fonctionnelle','4-Att fonction. lésion stable',\n",
    "                            '3B-Organe partiel traum instable','3A-3B + comorbidité/med traitant',\n",
    "                            '3 Ped - Moins urgent', '2-Atteinte organe , traum severe', \n",
    "                            '2 Ped - Urgent  ', '1-Détresse vitale', '1 Ped - Très urgent',\n",
    "                            '0 Ped - Réanimation immédiate'], \n",
    "               value = ['Pas de lesion', 'Lesion stable', 'Urgence moyenne', 'Urgence moyenne', 'Urgence moyenne',\n",
    "                      'Urgence vraie','Urgence vraie','Urgence vitale', 'Urgence vitale', 'Urgence vitale'],\n",
    "               inplace = True)"
   ]
  },
  {
   "cell_type": "markdown",
   "id": "prompt-elements",
   "metadata": {
    "id": "JIWPh_vXDEkO"
   },
   "source": [
    "On met en adéquation la variable 'tri' avec les libellés"
   ]
  },
  {
   "cell_type": "code",
   "execution_count": 12,
   "id": "arctic-today",
   "metadata": {
    "id": "vzVJ1UgiDEkP"
   },
   "outputs": [],
   "source": [
    "df[\"tri\"] = df[\"TRI\"].replace(to_replace=[\"0.\", \"1.\", \"1\", \"2.\", \"2\",\"3.\", \"3A\", \"3B\", \"4\", \"5\",\"3\",\"0\"],\n",
    "                   value=[1, 1, 1, 2, 2, 3, 3, 3, 4, 5, 3, 1],\n",
    "                   )"
   ]
  },
  {
   "cell_type": "markdown",
   "id": "olive-independence",
   "metadata": {
    "id": "DFUga00mDEkP"
   },
   "source": [
    "Travail sur la variable DECISION\n",
    "\n",
    "Les 3/4 des patients ressortent de l'hôpital."
   ]
  },
  {
   "cell_type": "code",
   "execution_count": 13,
   "id": "considerable-arena",
   "metadata": {
    "id": "GpAOQvxzDEkP"
   },
   "outputs": [],
   "source": [
    "df['DECISION'].replace(to_replace=['Pas de décision','Patient admis et dirigé','Patient dirigé','Patient décédé'],\n",
    "                       value=['Patient non admis','Patient admis','Patient admis','Patient décédé'],inplace=True)"
   ]
  },
  {
   "cell_type": "code",
   "execution_count": 14,
   "id": "appointed-explosion",
   "metadata": {
    "id": "9Tgln470DEkP",
    "outputId": "38b35e8a-b628-4967-9e30-061d43c29d4c"
   },
   "outputs": [
    {
     "data": {
      "text/plain": [
       "Patient non admis    74.473212\n",
       "Patient admis        25.474927\n",
       "Patient décédé        0.051861\n",
       "Name: DECISION, dtype: float64"
      ]
     },
     "execution_count": 14,
     "metadata": {},
     "output_type": "execute_result"
    }
   ],
   "source": [
    "df.DECISION.value_counts(normalize=True)*100"
   ]
  },
  {
   "cell_type": "markdown",
   "id": "stuffed-curve",
   "metadata": {
    "id": "0afPx_i9DEkQ"
   },
   "source": [
    "## 1c Gestion des valeur manquantes"
   ]
  },
  {
   "cell_type": "code",
   "execution_count": 15,
   "id": "stock-shadow",
   "metadata": {
    "id": "-aSb-BPuDEkQ",
    "outputId": "cce48817-0564-4683-bd3a-af2e9f61cf04"
   },
   "outputs": [
    {
     "data": {
      "text/plain": [
       "CODE           0.000000\n",
       "DATE_ENT_1     0.000000\n",
       "ANNEE          0.000000\n",
       "MOIS           0.000000\n",
       "HEURE          0.000000\n",
       "MIN            0.000000\n",
       "age            0.000000\n",
       "DECISION       0.000000\n",
       "TRI           11.346791\n",
       "LIBELLE       11.346791\n",
       "DEB_CS        19.626202\n",
       "FIN_CS         0.048670\n",
       "SEXE           0.000000\n",
       "DATE_SOR       0.000000\n",
       "H_SOR          0.000000\n",
       "HM_SOR         0.000000\n",
       "tri           11.346791\n",
       "dtype: float64"
      ]
     },
     "execution_count": 15,
     "metadata": {},
     "output_type": "execute_result"
    }
   ],
   "source": [
    "df.isna().mean()*100"
   ]
  },
  {
   "cell_type": "markdown",
   "id": "proof-heath",
   "metadata": {
    "id": "ApA2c_TCDEkS"
   },
   "source": [
    "On va remplacer les valeurs manquantes pour le degré de gravité (tri) ainsi que le LIBELLE par leurs modes respectifs.\n",
    "Néanmoins, au préalable, on va créer une variable qui prendra en compte le fait qu'il manquait le tri."
   ]
  },
  {
   "cell_type": "code",
   "execution_count": 16,
   "id": "biblical-turner",
   "metadata": {},
   "outputs": [
    {
     "data": {
      "text/plain": [
       "array([ 2.,  4.,  5.,  3., nan,  1.])"
      ]
     },
     "execution_count": 16,
     "metadata": {},
     "output_type": "execute_result"
    }
   ],
   "source": [
    "df.tri.unique()"
   ]
  },
  {
   "cell_type": "code",
   "execution_count": 17,
   "id": "composite-bibliography",
   "metadata": {
    "id": "yqDrpHV6DEkS",
    "outputId": "6817cf22-50f5-4637-8822-8f56f3bbc8de"
   },
   "outputs": [],
   "source": [
    "df[\"tri_is_missing\"] = np.where(np.isnan(df.tri), 1, 0)"
   ]
  },
  {
   "cell_type": "code",
   "execution_count": 18,
   "id": "certified-sunday",
   "metadata": {
    "id": "V7n_0I5VDEkS",
    "outputId": "cdd32547-36d5-45b5-d250-2dc182ef863e"
   },
   "outputs": [
    {
     "data": {
      "text/plain": [
       "0    222227\n",
       "1     28443\n",
       "Name: tri_is_missing, dtype: int64"
      ]
     },
     "execution_count": 18,
     "metadata": {},
     "output_type": "execute_result"
    }
   ],
   "source": [
    "df.tri_is_missing.value_counts()"
   ]
  },
  {
   "cell_type": "code",
   "execution_count": 19,
   "id": "integral-incident",
   "metadata": {
    "id": "CyiwLED6DEkT"
   },
   "outputs": [],
   "source": [
    "mode_tri = df.tri.mode()[0]\n",
    "mode_LIBELLE = df.LIBELLE.mode()[0]\n",
    "df.tri.fillna(value = mode_tri, inplace=True)\n",
    "df.LIBELLE.fillna(value = mode_LIBELLE, inplace=True)"
   ]
  },
  {
   "cell_type": "code",
   "execution_count": 20,
   "id": "quick-elite",
   "metadata": {
    "id": "oKErL3wzDEkT"
   },
   "outputs": [
    {
     "data": {
      "text/plain": [
       "array([2, 4, 5, 3, 1])"
      ]
     },
     "execution_count": 20,
     "metadata": {},
     "output_type": "execute_result"
    }
   ],
   "source": [
    "df.tri = df.tri.astype(\"int\")\n",
    "df.tri.unique()"
   ]
  },
  {
   "cell_type": "code",
   "execution_count": 21,
   "id": "prostate-hopkins",
   "metadata": {},
   "outputs": [
    {
     "data": {
      "text/plain": [
       "CODE               0.000000\n",
       "DATE_ENT_1         0.000000\n",
       "ANNEE              0.000000\n",
       "MOIS               0.000000\n",
       "HEURE              0.000000\n",
       "MIN                0.000000\n",
       "age                0.000000\n",
       "DECISION           0.000000\n",
       "TRI               11.346791\n",
       "LIBELLE            0.000000\n",
       "DEB_CS            19.626202\n",
       "FIN_CS             0.048670\n",
       "SEXE               0.000000\n",
       "DATE_SOR           0.000000\n",
       "H_SOR              0.000000\n",
       "HM_SOR             0.000000\n",
       "tri                0.000000\n",
       "tri_is_missing     0.000000\n",
       "dtype: float64"
      ]
     },
     "execution_count": 21,
     "metadata": {},
     "output_type": "execute_result"
    }
   ],
   "source": [
    "df.isna().mean()*100"
   ]
  },
  {
   "cell_type": "markdown",
   "id": "humanitarian-benefit",
   "metadata": {},
   "source": [
    "Pour les valeurs manquantes de date de fin (FIN_CS), on va mettre une date de fin = à la date de début.\n",
    "On gardera la trace d'une donnée manquante dans sortie_is_missing.\n",
    "\n",
    "Il y a déjà des valeurs de ce type existantes (sortie= entrée).\n",
    "\n",
    "Ce qui va nous interesser c'est plutôt un délai passé aux urgences, que l'heure en elle-même de départ.\n",
    "\n",
    "On pourra décider de travailler sur les delais = 0  "
   ]
  },
  {
   "cell_type": "code",
   "execution_count": 22,
   "id": "intellectual-benjamin",
   "metadata": {},
   "outputs": [
    {
     "name": "stdout",
     "output_type": "stream",
     "text": [
      "<class 'pandas.core.frame.DataFrame'>\n",
      "Int64Index: 250670 entries, 211808 to 12266\n",
      "Data columns (total 18 columns):\n",
      " #   Column          Non-Null Count   Dtype  \n",
      "---  ------          --------------   -----  \n",
      " 0   CODE            250670 non-null  object \n",
      " 1   DATE_ENT_1      250670 non-null  object \n",
      " 2   ANNEE           250670 non-null  int64  \n",
      " 3   MOIS            250670 non-null  int64  \n",
      " 4   HEURE           250670 non-null  int64  \n",
      " 5   MIN             250670 non-null  int64  \n",
      " 6   age             250670 non-null  float64\n",
      " 7   DECISION        250670 non-null  object \n",
      " 8   TRI             222227 non-null  object \n",
      " 9   LIBELLE         250670 non-null  object \n",
      " 10  DEB_CS          201473 non-null  float64\n",
      " 11  FIN_CS          250548 non-null  float64\n",
      " 12  SEXE            250670 non-null  object \n",
      " 13  DATE_SOR        250670 non-null  object \n",
      " 14  H_SOR           250670 non-null  int64  \n",
      " 15  HM_SOR          250670 non-null  int64  \n",
      " 16  tri             250670 non-null  int32  \n",
      " 17  tri_is_missing  250670 non-null  int32  \n",
      "dtypes: float64(3), int32(2), int64(6), object(7)\n",
      "memory usage: 34.4+ MB\n"
     ]
    }
   ],
   "source": [
    "df.info()"
   ]
  },
  {
   "cell_type": "code",
   "execution_count": 23,
   "id": "mexican-conservative",
   "metadata": {},
   "outputs": [],
   "source": [
    "df[\"sortie_is_zero\"] = np.where(df.DATE_SOR=='0', 1, 0)"
   ]
  },
  {
   "cell_type": "code",
   "execution_count": 24,
   "id": "obvious-george",
   "metadata": {},
   "outputs": [
    {
     "data": {
      "text/plain": [
       "0    249724\n",
       "1       946\n",
       "Name: sortie_is_zero, dtype: int64"
      ]
     },
     "execution_count": 24,
     "metadata": {},
     "output_type": "execute_result"
    }
   ],
   "source": [
    "df.sortie_is_zero.value_counts()"
   ]
  },
  {
   "cell_type": "code",
   "execution_count": 25,
   "id": "accomplished-mediterranean",
   "metadata": {},
   "outputs": [
    {
     "data": {
      "text/plain": [
       "5    373\n",
       "4    328\n",
       "3    229\n",
       "2     14\n",
       "1      2\n",
       "Name: tri, dtype: int64"
      ]
     },
     "execution_count": 25,
     "metadata": {},
     "output_type": "execute_result"
    }
   ],
   "source": [
    "df[(df.sortie_is_zero==1)].tri.value_counts()"
   ]
  },
  {
   "cell_type": "code",
   "execution_count": 26,
   "id": "eastern-executive",
   "metadata": {},
   "outputs": [
    {
     "data": {
      "text/plain": [
       "Patient non admis    881\n",
       "Patient admis         65\n",
       "Name: DECISION, dtype: int64"
      ]
     },
     "execution_count": 26,
     "metadata": {},
     "output_type": "execute_result"
    }
   ],
   "source": [
    "df[(df.sortie_is_zero==1)].DECISION.value_counts()"
   ]
  },
  {
   "cell_type": "markdown",
   "id": "regional-twist",
   "metadata": {},
   "source": [
    "On voit qu'il s'agit de sejours de gravité différente, et en majorité non admis.\n",
    "\n",
    "On ne peut donc pas définir une durée moyenne de passage toutes gravités confondues.\n",
    "\n",
    "On calculera ultérieurement une durée moyenne de presence (delais) aux urgences par niveau de tri et decision, et on mettra à jour les delais = 0 sur cette base."
   ]
  },
  {
   "cell_type": "code",
   "execution_count": 27,
   "id": "polyphonic-chair",
   "metadata": {},
   "outputs": [
    {
     "name": "stderr",
     "output_type": "stream",
     "text": [
      "C:\\Users\\Beauj\\AppData\\Local\\Temp/ipykernel_10768/2675865321.py:3: SettingWithCopyWarning: \n",
      "A value is trying to be set on a copy of a slice from a DataFrame\n",
      "\n",
      "See the caveats in the documentation: https://pandas.pydata.org/pandas-docs/stable/user_guide/indexing.html#returning-a-view-versus-a-copy\n",
      "  df['DATE_SOR'][i]=df['DATE_ENT_1'][i]\n"
     ]
    }
   ],
   "source": [
    "for i in df.index:\n",
    "    if df['sortie_is_zero'][i] == 1:\n",
    "        df['DATE_SOR'][i]=df['DATE_ENT_1'][i]"
   ]
  },
  {
   "cell_type": "code",
   "execution_count": 28,
   "id": "norwegian-uniform",
   "metadata": {},
   "outputs": [
    {
     "data": {
      "text/html": [
       "<div>\n",
       "<style scoped>\n",
       "    .dataframe tbody tr th:only-of-type {\n",
       "        vertical-align: middle;\n",
       "    }\n",
       "\n",
       "    .dataframe tbody tr th {\n",
       "        vertical-align: top;\n",
       "    }\n",
       "\n",
       "    .dataframe thead th {\n",
       "        text-align: right;\n",
       "    }\n",
       "</style>\n",
       "<table border=\"1\" class=\"dataframe\">\n",
       "  <thead>\n",
       "    <tr style=\"text-align: right;\">\n",
       "      <th></th>\n",
       "      <th>CODE</th>\n",
       "      <th>DATE_ENT_1</th>\n",
       "      <th>ANNEE</th>\n",
       "      <th>MOIS</th>\n",
       "      <th>HEURE</th>\n",
       "      <th>MIN</th>\n",
       "      <th>age</th>\n",
       "      <th>DECISION</th>\n",
       "      <th>TRI</th>\n",
       "      <th>LIBELLE</th>\n",
       "      <th>DEB_CS</th>\n",
       "      <th>FIN_CS</th>\n",
       "      <th>SEXE</th>\n",
       "      <th>DATE_SOR</th>\n",
       "      <th>H_SOR</th>\n",
       "      <th>HM_SOR</th>\n",
       "      <th>tri</th>\n",
       "      <th>tri_is_missing</th>\n",
       "      <th>sortie_is_zero</th>\n",
       "    </tr>\n",
       "    <tr>\n",
       "      <th>INDEX</th>\n",
       "      <th></th>\n",
       "      <th></th>\n",
       "      <th></th>\n",
       "      <th></th>\n",
       "      <th></th>\n",
       "      <th></th>\n",
       "      <th></th>\n",
       "      <th></th>\n",
       "      <th></th>\n",
       "      <th></th>\n",
       "      <th></th>\n",
       "      <th></th>\n",
       "      <th></th>\n",
       "      <th></th>\n",
       "      <th></th>\n",
       "      <th></th>\n",
       "      <th></th>\n",
       "      <th></th>\n",
       "      <th></th>\n",
       "    </tr>\n",
       "  </thead>\n",
       "  <tbody>\n",
       "    <tr>\n",
       "      <th>233057</th>\n",
       "      <td>T601</td>\n",
       "      <td>23/02/2016</td>\n",
       "      <td>2016</td>\n",
       "      <td>2</td>\n",
       "      <td>19</td>\n",
       "      <td>36</td>\n",
       "      <td>87.457534</td>\n",
       "      <td>Patient non admis</td>\n",
       "      <td>4</td>\n",
       "      <td>Lesion stable</td>\n",
       "      <td>NaN</td>\n",
       "      <td>0.000000e+00</td>\n",
       "      <td>F</td>\n",
       "      <td>23/02/2016</td>\n",
       "      <td>0</td>\n",
       "      <td>0</td>\n",
       "      <td>4</td>\n",
       "      <td>0</td>\n",
       "      <td>1</td>\n",
       "    </tr>\n",
       "    <tr>\n",
       "      <th>227056</th>\n",
       "      <td>T601</td>\n",
       "      <td>05/04/2016</td>\n",
       "      <td>2016</td>\n",
       "      <td>4</td>\n",
       "      <td>19</td>\n",
       "      <td>56</td>\n",
       "      <td>88.931507</td>\n",
       "      <td>Patient non admis</td>\n",
       "      <td>3A</td>\n",
       "      <td>Urgence moyenne</td>\n",
       "      <td>NaN</td>\n",
       "      <td>0.000000e+00</td>\n",
       "      <td>M</td>\n",
       "      <td>05/04/2016</td>\n",
       "      <td>0</td>\n",
       "      <td>0</td>\n",
       "      <td>3</td>\n",
       "      <td>0</td>\n",
       "      <td>1</td>\n",
       "    </tr>\n",
       "    <tr>\n",
       "      <th>227005</th>\n",
       "      <td>T601</td>\n",
       "      <td>24/02/2016</td>\n",
       "      <td>2016</td>\n",
       "      <td>2</td>\n",
       "      <td>17</td>\n",
       "      <td>54</td>\n",
       "      <td>89.019178</td>\n",
       "      <td>Patient non admis</td>\n",
       "      <td>4</td>\n",
       "      <td>Lesion stable</td>\n",
       "      <td>NaN</td>\n",
       "      <td>2.020000e+11</td>\n",
       "      <td>F</td>\n",
       "      <td>24/02/2016</td>\n",
       "      <td>0</td>\n",
       "      <td>0</td>\n",
       "      <td>4</td>\n",
       "      <td>0</td>\n",
       "      <td>1</td>\n",
       "    </tr>\n",
       "    <tr>\n",
       "      <th>227013</th>\n",
       "      <td>T601</td>\n",
       "      <td>20/02/2016</td>\n",
       "      <td>2016</td>\n",
       "      <td>2</td>\n",
       "      <td>6</td>\n",
       "      <td>42</td>\n",
       "      <td>89.449315</td>\n",
       "      <td>Patient non admis</td>\n",
       "      <td>4</td>\n",
       "      <td>Lesion stable</td>\n",
       "      <td>NaN</td>\n",
       "      <td>0.000000e+00</td>\n",
       "      <td>F</td>\n",
       "      <td>20/02/2016</td>\n",
       "      <td>0</td>\n",
       "      <td>0</td>\n",
       "      <td>4</td>\n",
       "      <td>0</td>\n",
       "      <td>1</td>\n",
       "    </tr>\n",
       "    <tr>\n",
       "      <th>215074</th>\n",
       "      <td>T601</td>\n",
       "      <td>04/04/2016</td>\n",
       "      <td>2016</td>\n",
       "      <td>4</td>\n",
       "      <td>5</td>\n",
       "      <td>39</td>\n",
       "      <td>89.698630</td>\n",
       "      <td>Patient non admis</td>\n",
       "      <td>4</td>\n",
       "      <td>Lesion stable</td>\n",
       "      <td>NaN</td>\n",
       "      <td>0.000000e+00</td>\n",
       "      <td>F</td>\n",
       "      <td>04/04/2016</td>\n",
       "      <td>0</td>\n",
       "      <td>0</td>\n",
       "      <td>4</td>\n",
       "      <td>0</td>\n",
       "      <td>1</td>\n",
       "    </tr>\n",
       "    <tr>\n",
       "      <th>...</th>\n",
       "      <td>...</td>\n",
       "      <td>...</td>\n",
       "      <td>...</td>\n",
       "      <td>...</td>\n",
       "      <td>...</td>\n",
       "      <td>...</td>\n",
       "      <td>...</td>\n",
       "      <td>...</td>\n",
       "      <td>...</td>\n",
       "      <td>...</td>\n",
       "      <td>...</td>\n",
       "      <td>...</td>\n",
       "      <td>...</td>\n",
       "      <td>...</td>\n",
       "      <td>...</td>\n",
       "      <td>...</td>\n",
       "      <td>...</td>\n",
       "      <td>...</td>\n",
       "      <td>...</td>\n",
       "    </tr>\n",
       "    <tr>\n",
       "      <th>238938</th>\n",
       "      <td>T601</td>\n",
       "      <td>02/03/2021</td>\n",
       "      <td>2021</td>\n",
       "      <td>3</td>\n",
       "      <td>23</td>\n",
       "      <td>16</td>\n",
       "      <td>85.800000</td>\n",
       "      <td>Patient non admis</td>\n",
       "      <td>NaN</td>\n",
       "      <td>Urgence moyenne</td>\n",
       "      <td>2.021030e+07</td>\n",
       "      <td>NaN</td>\n",
       "      <td>F</td>\n",
       "      <td>02/03/2021</td>\n",
       "      <td>0</td>\n",
       "      <td>0</td>\n",
       "      <td>3</td>\n",
       "      <td>1</td>\n",
       "      <td>1</td>\n",
       "    </tr>\n",
       "    <tr>\n",
       "      <th>227010</th>\n",
       "      <td>T601</td>\n",
       "      <td>20/02/2016</td>\n",
       "      <td>2016</td>\n",
       "      <td>2</td>\n",
       "      <td>7</td>\n",
       "      <td>54</td>\n",
       "      <td>86.194521</td>\n",
       "      <td>Patient non admis</td>\n",
       "      <td>4</td>\n",
       "      <td>Lesion stable</td>\n",
       "      <td>NaN</td>\n",
       "      <td>0.000000e+00</td>\n",
       "      <td>M</td>\n",
       "      <td>20/02/2016</td>\n",
       "      <td>0</td>\n",
       "      <td>0</td>\n",
       "      <td>4</td>\n",
       "      <td>0</td>\n",
       "      <td>1</td>\n",
       "    </tr>\n",
       "    <tr>\n",
       "      <th>27420</th>\n",
       "      <td>T601</td>\n",
       "      <td>02/08/2017</td>\n",
       "      <td>2017</td>\n",
       "      <td>8</td>\n",
       "      <td>14</td>\n",
       "      <td>49</td>\n",
       "      <td>87.000000</td>\n",
       "      <td>Patient non admis</td>\n",
       "      <td>3A</td>\n",
       "      <td>Urgence moyenne</td>\n",
       "      <td>2.020000e+11</td>\n",
       "      <td>2.020000e+11</td>\n",
       "      <td>F</td>\n",
       "      <td>02/08/2017</td>\n",
       "      <td>0</td>\n",
       "      <td>0</td>\n",
       "      <td>3</td>\n",
       "      <td>0</td>\n",
       "      <td>1</td>\n",
       "    </tr>\n",
       "    <tr>\n",
       "      <th>182216</th>\n",
       "      <td>T601</td>\n",
       "      <td>29/11/2020</td>\n",
       "      <td>2020</td>\n",
       "      <td>11</td>\n",
       "      <td>16</td>\n",
       "      <td>53</td>\n",
       "      <td>94.500000</td>\n",
       "      <td>Patient non admis</td>\n",
       "      <td>NaN</td>\n",
       "      <td>Urgence moyenne</td>\n",
       "      <td>2.020000e+11</td>\n",
       "      <td>NaN</td>\n",
       "      <td>F</td>\n",
       "      <td>29/11/2020</td>\n",
       "      <td>0</td>\n",
       "      <td>0</td>\n",
       "      <td>3</td>\n",
       "      <td>1</td>\n",
       "      <td>1</td>\n",
       "    </tr>\n",
       "    <tr>\n",
       "      <th>142139</th>\n",
       "      <td>T601</td>\n",
       "      <td>30/12/2019</td>\n",
       "      <td>2019</td>\n",
       "      <td>12</td>\n",
       "      <td>14</td>\n",
       "      <td>46</td>\n",
       "      <td>97.700000</td>\n",
       "      <td>Patient non admis</td>\n",
       "      <td>NaN</td>\n",
       "      <td>Urgence moyenne</td>\n",
       "      <td>2.020000e+11</td>\n",
       "      <td>NaN</td>\n",
       "      <td>F</td>\n",
       "      <td>30/12/2019</td>\n",
       "      <td>0</td>\n",
       "      <td>0</td>\n",
       "      <td>3</td>\n",
       "      <td>1</td>\n",
       "      <td>1</td>\n",
       "    </tr>\n",
       "  </tbody>\n",
       "</table>\n",
       "<p>946 rows × 19 columns</p>\n",
       "</div>"
      ],
      "text/plain": [
       "        CODE  DATE_ENT_1  ANNEE  MOIS  HEURE  MIN        age  \\\n",
       "INDEX                                                          \n",
       "233057  T601  23/02/2016   2016     2     19   36  87.457534   \n",
       "227056  T601  05/04/2016   2016     4     19   56  88.931507   \n",
       "227005  T601  24/02/2016   2016     2     17   54  89.019178   \n",
       "227013  T601  20/02/2016   2016     2      6   42  89.449315   \n",
       "215074  T601  04/04/2016   2016     4      5   39  89.698630   \n",
       "...      ...         ...    ...   ...    ...  ...        ...   \n",
       "238938  T601  02/03/2021   2021     3     23   16  85.800000   \n",
       "227010  T601  20/02/2016   2016     2      7   54  86.194521   \n",
       "27420   T601  02/08/2017   2017     8     14   49  87.000000   \n",
       "182216  T601  29/11/2020   2020    11     16   53  94.500000   \n",
       "142139  T601  30/12/2019   2019    12     14   46  97.700000   \n",
       "\n",
       "                 DECISION  TRI          LIBELLE        DEB_CS        FIN_CS  \\\n",
       "INDEX                                                                         \n",
       "233057  Patient non admis    4    Lesion stable           NaN  0.000000e+00   \n",
       "227056  Patient non admis   3A  Urgence moyenne           NaN  0.000000e+00   \n",
       "227005  Patient non admis    4    Lesion stable           NaN  2.020000e+11   \n",
       "227013  Patient non admis    4    Lesion stable           NaN  0.000000e+00   \n",
       "215074  Patient non admis    4    Lesion stable           NaN  0.000000e+00   \n",
       "...                   ...  ...              ...           ...           ...   \n",
       "238938  Patient non admis  NaN  Urgence moyenne  2.021030e+07           NaN   \n",
       "227010  Patient non admis    4    Lesion stable           NaN  0.000000e+00   \n",
       "27420   Patient non admis   3A  Urgence moyenne  2.020000e+11  2.020000e+11   \n",
       "182216  Patient non admis  NaN  Urgence moyenne  2.020000e+11           NaN   \n",
       "142139  Patient non admis  NaN  Urgence moyenne  2.020000e+11           NaN   \n",
       "\n",
       "       SEXE    DATE_SOR  H_SOR  HM_SOR  tri  tri_is_missing  sortie_is_zero  \n",
       "INDEX                                                                        \n",
       "233057    F  23/02/2016      0       0    4               0               1  \n",
       "227056    M  05/04/2016      0       0    3               0               1  \n",
       "227005    F  24/02/2016      0       0    4               0               1  \n",
       "227013    F  20/02/2016      0       0    4               0               1  \n",
       "215074    F  04/04/2016      0       0    4               0               1  \n",
       "...     ...         ...    ...     ...  ...             ...             ...  \n",
       "238938    F  02/03/2021      0       0    3               1               1  \n",
       "227010    M  20/02/2016      0       0    4               0               1  \n",
       "27420     F  02/08/2017      0       0    3               0               1  \n",
       "182216    F  29/11/2020      0       0    3               1               1  \n",
       "142139    F  30/12/2019      0       0    3               1               1  \n",
       "\n",
       "[946 rows x 19 columns]"
      ]
     },
     "execution_count": 28,
     "metadata": {},
     "output_type": "execute_result"
    }
   ],
   "source": [
    "df[(df.sortie_is_zero==1)]"
   ]
  },
  {
   "cell_type": "markdown",
   "id": "affiliated-maryland",
   "metadata": {},
   "source": [
    "## 1d Gestion des dates"
   ]
  },
  {
   "cell_type": "markdown",
   "id": "aquatic-fight",
   "metadata": {},
   "source": [
    "On va intégrer des formats date et datetime dans notre dataset\n",
    "\n",
    "### Dates d'entrée"
   ]
  },
  {
   "cell_type": "code",
   "execution_count": 29,
   "id": "unsigned-doubt",
   "metadata": {
    "id": "a-WIVSNDDEkR"
   },
   "outputs": [],
   "source": [
    "df[\"DATE\"] = pd.to_datetime(df.DATE_ENT_1,dayfirst=True)\n",
    "df[\"jour\"] = df[\"DATE\"].dt.day\n",
    "df[\"jour_de_la_semaine\"] = df[\"DATE\"].dt.dayofweek\n",
    "df[\"mois\"] = df[\"DATE\"].dt.month\n",
    "df[\"annee\"] = df[\"DATE\"].dt.year"
   ]
  },
  {
   "cell_type": "code",
   "execution_count": 30,
   "id": "genetic-diameter",
   "metadata": {},
   "outputs": [],
   "source": [
    "df['dateT_E']= df.annee.astype(str) + \"/\"+ df.mois.astype(str) + \"/\" + df.jour.astype(str) +\"/\" +df.HEURE.astype(str) + \":\"+df.MIN.astype(str)\n",
    "df['dateT_E']=pd.to_datetime(df['dateT_E'],yearfirst=True)"
   ]
  },
  {
   "cell_type": "markdown",
   "id": "whole-beauty",
   "metadata": {},
   "source": [
    "### Dates de sortie"
   ]
  },
  {
   "cell_type": "code",
   "execution_count": 31,
   "id": "still-bearing",
   "metadata": {},
   "outputs": [
    {
     "data": {
      "text/plain": [
       "25/05/2016    12\n",
       "20/03/2016    10\n",
       "21/02/2016    10\n",
       "11/04/2016     9\n",
       "03/05/2016     9\n",
       "              ..\n",
       "31/10/2017     1\n",
       "25/10/2017     1\n",
       "08/12/2017     1\n",
       "26/01/2016     1\n",
       "18/03/2020     1\n",
       "Name: DATE_SOR, Length: 506, dtype: int64"
      ]
     },
     "execution_count": 31,
     "metadata": {},
     "output_type": "execute_result"
    }
   ],
   "source": [
    "df[(df.sortie_is_zero==1)].DATE_SOR.value_counts()"
   ]
  },
  {
   "cell_type": "code",
   "execution_count": 32,
   "id": "durable-usage",
   "metadata": {},
   "outputs": [],
   "source": [
    "df.H_SOR = df.H_SOR.astype(str)\n",
    "df.HM_SOR = df.HM_SOR.astype(str)"
   ]
  },
  {
   "cell_type": "code",
   "execution_count": 33,
   "id": "loved-brand",
   "metadata": {},
   "outputs": [
    {
     "data": {
      "text/html": [
       "<div>\n",
       "<style scoped>\n",
       "    .dataframe tbody tr th:only-of-type {\n",
       "        vertical-align: middle;\n",
       "    }\n",
       "\n",
       "    .dataframe tbody tr th {\n",
       "        vertical-align: top;\n",
       "    }\n",
       "\n",
       "    .dataframe thead th {\n",
       "        text-align: right;\n",
       "    }\n",
       "</style>\n",
       "<table border=\"1\" class=\"dataframe\">\n",
       "  <thead>\n",
       "    <tr style=\"text-align: right;\">\n",
       "      <th></th>\n",
       "      <th>CODE</th>\n",
       "      <th>DATE_ENT_1</th>\n",
       "      <th>ANNEE</th>\n",
       "      <th>MOIS</th>\n",
       "      <th>HEURE</th>\n",
       "      <th>MIN</th>\n",
       "      <th>age</th>\n",
       "      <th>DECISION</th>\n",
       "      <th>TRI</th>\n",
       "      <th>LIBELLE</th>\n",
       "      <th>...</th>\n",
       "      <th>HM_SOR</th>\n",
       "      <th>tri</th>\n",
       "      <th>tri_is_missing</th>\n",
       "      <th>sortie_is_zero</th>\n",
       "      <th>DATE</th>\n",
       "      <th>jour</th>\n",
       "      <th>jour_de_la_semaine</th>\n",
       "      <th>mois</th>\n",
       "      <th>annee</th>\n",
       "      <th>dateT_E</th>\n",
       "    </tr>\n",
       "    <tr>\n",
       "      <th>INDEX</th>\n",
       "      <th></th>\n",
       "      <th></th>\n",
       "      <th></th>\n",
       "      <th></th>\n",
       "      <th></th>\n",
       "      <th></th>\n",
       "      <th></th>\n",
       "      <th></th>\n",
       "      <th></th>\n",
       "      <th></th>\n",
       "      <th></th>\n",
       "      <th></th>\n",
       "      <th></th>\n",
       "      <th></th>\n",
       "      <th></th>\n",
       "      <th></th>\n",
       "      <th></th>\n",
       "      <th></th>\n",
       "      <th></th>\n",
       "      <th></th>\n",
       "      <th></th>\n",
       "    </tr>\n",
       "  </thead>\n",
       "  <tbody>\n",
       "    <tr>\n",
       "      <th>211808</th>\n",
       "      <td>T601</td>\n",
       "      <td>02/01/2016</td>\n",
       "      <td>2016</td>\n",
       "      <td>1</td>\n",
       "      <td>20</td>\n",
       "      <td>11</td>\n",
       "      <td>85.997260</td>\n",
       "      <td>Patient admis</td>\n",
       "      <td>2</td>\n",
       "      <td>Urgence vraie</td>\n",
       "      <td>...</td>\n",
       "      <td>2154</td>\n",
       "      <td>2</td>\n",
       "      <td>0</td>\n",
       "      <td>0</td>\n",
       "      <td>2016-01-02</td>\n",
       "      <td>2</td>\n",
       "      <td>5</td>\n",
       "      <td>1</td>\n",
       "      <td>2016</td>\n",
       "      <td>2016-01-02 20:11:00</td>\n",
       "    </tr>\n",
       "    <tr>\n",
       "      <th>230325</th>\n",
       "      <td>T601</td>\n",
       "      <td>28/02/2016</td>\n",
       "      <td>2016</td>\n",
       "      <td>2</td>\n",
       "      <td>9</td>\n",
       "      <td>29</td>\n",
       "      <td>86.150685</td>\n",
       "      <td>Patient non admis</td>\n",
       "      <td>4</td>\n",
       "      <td>Lesion stable</td>\n",
       "      <td>...</td>\n",
       "      <td>1002</td>\n",
       "      <td>4</td>\n",
       "      <td>0</td>\n",
       "      <td>0</td>\n",
       "      <td>2016-02-28</td>\n",
       "      <td>28</td>\n",
       "      <td>6</td>\n",
       "      <td>2</td>\n",
       "      <td>2016</td>\n",
       "      <td>2016-02-28 09:29:00</td>\n",
       "    </tr>\n",
       "    <tr>\n",
       "      <th>224126</th>\n",
       "      <td>T601</td>\n",
       "      <td>10/02/2016</td>\n",
       "      <td>2016</td>\n",
       "      <td>2</td>\n",
       "      <td>18</td>\n",
       "      <td>30</td>\n",
       "      <td>86.172603</td>\n",
       "      <td>Patient non admis</td>\n",
       "      <td>5</td>\n",
       "      <td>Pas de lesion</td>\n",
       "      <td>...</td>\n",
       "      <td>118</td>\n",
       "      <td>5</td>\n",
       "      <td>0</td>\n",
       "      <td>0</td>\n",
       "      <td>2016-02-10</td>\n",
       "      <td>10</td>\n",
       "      <td>2</td>\n",
       "      <td>2</td>\n",
       "      <td>2016</td>\n",
       "      <td>2016-02-10 18:30:00</td>\n",
       "    </tr>\n",
       "    <tr>\n",
       "      <th>217870</th>\n",
       "      <td>T601</td>\n",
       "      <td>09/01/2016</td>\n",
       "      <td>2016</td>\n",
       "      <td>1</td>\n",
       "      <td>16</td>\n",
       "      <td>17</td>\n",
       "      <td>86.194521</td>\n",
       "      <td>Patient admis</td>\n",
       "      <td>4</td>\n",
       "      <td>Lesion stable</td>\n",
       "      <td>...</td>\n",
       "      <td>1845</td>\n",
       "      <td>4</td>\n",
       "      <td>0</td>\n",
       "      <td>0</td>\n",
       "      <td>2016-01-09</td>\n",
       "      <td>9</td>\n",
       "      <td>5</td>\n",
       "      <td>1</td>\n",
       "      <td>2016</td>\n",
       "      <td>2016-01-09 16:17:00</td>\n",
       "    </tr>\n",
       "    <tr>\n",
       "      <th>218392</th>\n",
       "      <td>T601</td>\n",
       "      <td>28/02/2016</td>\n",
       "      <td>2016</td>\n",
       "      <td>2</td>\n",
       "      <td>4</td>\n",
       "      <td>27</td>\n",
       "      <td>86.246575</td>\n",
       "      <td>Patient admis</td>\n",
       "      <td>3A</td>\n",
       "      <td>Urgence moyenne</td>\n",
       "      <td>...</td>\n",
       "      <td>815</td>\n",
       "      <td>3</td>\n",
       "      <td>0</td>\n",
       "      <td>0</td>\n",
       "      <td>2016-02-28</td>\n",
       "      <td>28</td>\n",
       "      <td>6</td>\n",
       "      <td>2</td>\n",
       "      <td>2016</td>\n",
       "      <td>2016-02-28 04:27:00</td>\n",
       "    </tr>\n",
       "  </tbody>\n",
       "</table>\n",
       "<p>5 rows × 25 columns</p>\n",
       "</div>"
      ],
      "text/plain": [
       "        CODE  DATE_ENT_1  ANNEE  MOIS  HEURE  MIN        age  \\\n",
       "INDEX                                                          \n",
       "211808  T601  02/01/2016   2016     1     20   11  85.997260   \n",
       "230325  T601  28/02/2016   2016     2      9   29  86.150685   \n",
       "224126  T601  10/02/2016   2016     2     18   30  86.172603   \n",
       "217870  T601  09/01/2016   2016     1     16   17  86.194521   \n",
       "218392  T601  28/02/2016   2016     2      4   27  86.246575   \n",
       "\n",
       "                 DECISION TRI          LIBELLE  ...  HM_SOR  tri  \\\n",
       "INDEX                                           ...                \n",
       "211808      Patient admis   2    Urgence vraie  ...    2154    2   \n",
       "230325  Patient non admis   4    Lesion stable  ...    1002    4   \n",
       "224126  Patient non admis   5    Pas de lesion  ...     118    5   \n",
       "217870      Patient admis   4    Lesion stable  ...    1845    4   \n",
       "218392      Patient admis  3A  Urgence moyenne  ...     815    3   \n",
       "\n",
       "       tri_is_missing sortie_is_zero       DATE jour  jour_de_la_semaine  \\\n",
       "INDEX                                                                      \n",
       "211808              0              0 2016-01-02    2                   5   \n",
       "230325              0              0 2016-02-28   28                   6   \n",
       "224126              0              0 2016-02-10   10                   2   \n",
       "217870              0              0 2016-01-09    9                   5   \n",
       "218392              0              0 2016-02-28   28                   6   \n",
       "\n",
       "        mois  annee             dateT_E  \n",
       "INDEX                                    \n",
       "211808     1   2016 2016-01-02 20:11:00  \n",
       "230325     2   2016 2016-02-28 09:29:00  \n",
       "224126     2   2016 2016-02-10 18:30:00  \n",
       "217870     1   2016 2016-01-09 16:17:00  \n",
       "218392     2   2016 2016-02-28 04:27:00  \n",
       "\n",
       "[5 rows x 25 columns]"
      ]
     },
     "execution_count": 33,
     "metadata": {},
     "output_type": "execute_result"
    }
   ],
   "source": [
    "df.head()"
   ]
  },
  {
   "cell_type": "code",
   "execution_count": 34,
   "id": "received-ensemble",
   "metadata": {},
   "outputs": [],
   "source": [
    "df['date_S']=pd.to_datetime(df.DATE_SOR,dayfirst=True)\n",
    "df['date_S_AN']=df[\"date_S\"].dt.year\n",
    "df['date_S_MOIS']=df[\"date_S\"].dt.month\n",
    "df['date_S_JOUR']=df[\"date_S\"].dt.day\n",
    "df['date_S_H']=df.H_SOR\n",
    "df['date_S_MN']=df.HM_SOR.apply(lambda x: x[-2:])\n",
    "\n",
    "df['dateT_S']= df.date_S_AN.astype(str) + \"/\"+ df.date_S_MOIS.astype(str) + \"/\" + df.date_S_JOUR.astype(str) +\"/\" +df.date_S_H.astype(str) + \":\"+df.date_S_MN.astype(str)\n",
    "df['dateT_S']=pd.to_datetime(df['dateT_S'],yearfirst=True)"
   ]
  },
  {
   "cell_type": "code",
   "execution_count": 35,
   "id": "progressive-worse",
   "metadata": {},
   "outputs": [
    {
     "data": {
      "text/html": [
       "<div>\n",
       "<style scoped>\n",
       "    .dataframe tbody tr th:only-of-type {\n",
       "        vertical-align: middle;\n",
       "    }\n",
       "\n",
       "    .dataframe tbody tr th {\n",
       "        vertical-align: top;\n",
       "    }\n",
       "\n",
       "    .dataframe thead th {\n",
       "        text-align: right;\n",
       "    }\n",
       "</style>\n",
       "<table border=\"1\" class=\"dataframe\">\n",
       "  <thead>\n",
       "    <tr style=\"text-align: right;\">\n",
       "      <th></th>\n",
       "      <th>ANNEE</th>\n",
       "      <th>MOIS</th>\n",
       "      <th>HEURE</th>\n",
       "      <th>MIN</th>\n",
       "      <th>age</th>\n",
       "      <th>DEB_CS</th>\n",
       "      <th>FIN_CS</th>\n",
       "      <th>tri</th>\n",
       "      <th>tri_is_missing</th>\n",
       "      <th>sortie_is_zero</th>\n",
       "      <th>jour</th>\n",
       "      <th>jour_de_la_semaine</th>\n",
       "      <th>mois</th>\n",
       "      <th>annee</th>\n",
       "      <th>date_S_AN</th>\n",
       "      <th>date_S_MOIS</th>\n",
       "      <th>date_S_JOUR</th>\n",
       "    </tr>\n",
       "  </thead>\n",
       "  <tbody>\n",
       "    <tr>\n",
       "      <th>count</th>\n",
       "      <td>250670.000000</td>\n",
       "      <td>250670.000000</td>\n",
       "      <td>250670.000000</td>\n",
       "      <td>250670.000000</td>\n",
       "      <td>250670.000000</td>\n",
       "      <td>2.014730e+05</td>\n",
       "      <td>2.505480e+05</td>\n",
       "      <td>250670.000000</td>\n",
       "      <td>250670.000000</td>\n",
       "      <td>250670.000000</td>\n",
       "      <td>250670.000000</td>\n",
       "      <td>250670.000000</td>\n",
       "      <td>250670.000000</td>\n",
       "      <td>250670.000000</td>\n",
       "      <td>250670.000000</td>\n",
       "      <td>250670.000000</td>\n",
       "      <td>250670.000000</td>\n",
       "    </tr>\n",
       "    <tr>\n",
       "      <th>mean</th>\n",
       "      <td>2018.152499</td>\n",
       "      <td>6.209503</td>\n",
       "      <td>13.190103</td>\n",
       "      <td>29.390980</td>\n",
       "      <td>30.167573</td>\n",
       "      <td>1.869903e+11</td>\n",
       "      <td>2.015461e+11</td>\n",
       "      <td>3.710029</td>\n",
       "      <td>0.113468</td>\n",
       "      <td>0.003774</td>\n",
       "      <td>15.671345</td>\n",
       "      <td>3.066502</td>\n",
       "      <td>6.209503</td>\n",
       "      <td>2018.152499</td>\n",
       "      <td>2018.152679</td>\n",
       "      <td>6.209989</td>\n",
       "      <td>15.673810</td>\n",
       "    </tr>\n",
       "    <tr>\n",
       "      <th>std</th>\n",
       "      <td>1.544127</td>\n",
       "      <td>3.478458</td>\n",
       "      <td>5.878783</td>\n",
       "      <td>17.317335</td>\n",
       "      <td>24.661649</td>\n",
       "      <td>5.297520e+10</td>\n",
       "      <td>9.564725e+09</td>\n",
       "      <td>0.901904</td>\n",
       "      <td>0.317165</td>\n",
       "      <td>0.061316</td>\n",
       "      <td>8.803621</td>\n",
       "      <td>2.050388</td>\n",
       "      <td>3.478458</td>\n",
       "      <td>1.544127</td>\n",
       "      <td>1.544129</td>\n",
       "      <td>3.477979</td>\n",
       "      <td>8.803662</td>\n",
       "    </tr>\n",
       "    <tr>\n",
       "      <th>min</th>\n",
       "      <td>2016.000000</td>\n",
       "      <td>1.000000</td>\n",
       "      <td>0.000000</td>\n",
       "      <td>0.000000</td>\n",
       "      <td>0.000000</td>\n",
       "      <td>2.021010e+07</td>\n",
       "      <td>0.000000e+00</td>\n",
       "      <td>1.000000</td>\n",
       "      <td>0.000000</td>\n",
       "      <td>0.000000</td>\n",
       "      <td>1.000000</td>\n",
       "      <td>0.000000</td>\n",
       "      <td>1.000000</td>\n",
       "      <td>2016.000000</td>\n",
       "      <td>2016.000000</td>\n",
       "      <td>1.000000</td>\n",
       "      <td>1.000000</td>\n",
       "    </tr>\n",
       "    <tr>\n",
       "      <th>25%</th>\n",
       "      <td>2017.000000</td>\n",
       "      <td>3.000000</td>\n",
       "      <td>9.000000</td>\n",
       "      <td>14.000000</td>\n",
       "      <td>7.200000</td>\n",
       "      <td>2.020000e+11</td>\n",
       "      <td>2.020000e+11</td>\n",
       "      <td>3.000000</td>\n",
       "      <td>0.000000</td>\n",
       "      <td>0.000000</td>\n",
       "      <td>8.000000</td>\n",
       "      <td>1.000000</td>\n",
       "      <td>3.000000</td>\n",
       "      <td>2017.000000</td>\n",
       "      <td>2017.000000</td>\n",
       "      <td>3.000000</td>\n",
       "      <td>8.000000</td>\n",
       "    </tr>\n",
       "    <tr>\n",
       "      <th>50%</th>\n",
       "      <td>2018.000000</td>\n",
       "      <td>6.000000</td>\n",
       "      <td>13.000000</td>\n",
       "      <td>29.000000</td>\n",
       "      <td>26.000000</td>\n",
       "      <td>2.020000e+11</td>\n",
       "      <td>2.020000e+11</td>\n",
       "      <td>4.000000</td>\n",
       "      <td>0.000000</td>\n",
       "      <td>0.000000</td>\n",
       "      <td>16.000000</td>\n",
       "      <td>3.000000</td>\n",
       "      <td>6.000000</td>\n",
       "      <td>2018.000000</td>\n",
       "      <td>2018.000000</td>\n",
       "      <td>6.000000</td>\n",
       "      <td>16.000000</td>\n",
       "    </tr>\n",
       "    <tr>\n",
       "      <th>75%</th>\n",
       "      <td>2019.000000</td>\n",
       "      <td>9.000000</td>\n",
       "      <td>18.000000</td>\n",
       "      <td>44.000000</td>\n",
       "      <td>47.049315</td>\n",
       "      <td>2.020000e+11</td>\n",
       "      <td>2.020000e+11</td>\n",
       "      <td>4.000000</td>\n",
       "      <td>0.000000</td>\n",
       "      <td>0.000000</td>\n",
       "      <td>23.000000</td>\n",
       "      <td>5.000000</td>\n",
       "      <td>9.000000</td>\n",
       "      <td>2019.000000</td>\n",
       "      <td>2019.000000</td>\n",
       "      <td>9.000000</td>\n",
       "      <td>23.000000</td>\n",
       "    </tr>\n",
       "    <tr>\n",
       "      <th>max</th>\n",
       "      <td>2021.000000</td>\n",
       "      <td>12.000000</td>\n",
       "      <td>23.000000</td>\n",
       "      <td>59.000000</td>\n",
       "      <td>108.000000</td>\n",
       "      <td>2.020000e+11</td>\n",
       "      <td>2.020000e+11</td>\n",
       "      <td>5.000000</td>\n",
       "      <td>1.000000</td>\n",
       "      <td>1.000000</td>\n",
       "      <td>31.000000</td>\n",
       "      <td>6.000000</td>\n",
       "      <td>12.000000</td>\n",
       "      <td>2021.000000</td>\n",
       "      <td>2021.000000</td>\n",
       "      <td>12.000000</td>\n",
       "      <td>31.000000</td>\n",
       "    </tr>\n",
       "  </tbody>\n",
       "</table>\n",
       "</div>"
      ],
      "text/plain": [
       "               ANNEE           MOIS          HEURE            MIN  \\\n",
       "count  250670.000000  250670.000000  250670.000000  250670.000000   \n",
       "mean     2018.152499       6.209503      13.190103      29.390980   \n",
       "std         1.544127       3.478458       5.878783      17.317335   \n",
       "min      2016.000000       1.000000       0.000000       0.000000   \n",
       "25%      2017.000000       3.000000       9.000000      14.000000   \n",
       "50%      2018.000000       6.000000      13.000000      29.000000   \n",
       "75%      2019.000000       9.000000      18.000000      44.000000   \n",
       "max      2021.000000      12.000000      23.000000      59.000000   \n",
       "\n",
       "                 age        DEB_CS        FIN_CS            tri  \\\n",
       "count  250670.000000  2.014730e+05  2.505480e+05  250670.000000   \n",
       "mean       30.167573  1.869903e+11  2.015461e+11       3.710029   \n",
       "std        24.661649  5.297520e+10  9.564725e+09       0.901904   \n",
       "min         0.000000  2.021010e+07  0.000000e+00       1.000000   \n",
       "25%         7.200000  2.020000e+11  2.020000e+11       3.000000   \n",
       "50%        26.000000  2.020000e+11  2.020000e+11       4.000000   \n",
       "75%        47.049315  2.020000e+11  2.020000e+11       4.000000   \n",
       "max       108.000000  2.020000e+11  2.020000e+11       5.000000   \n",
       "\n",
       "       tri_is_missing  sortie_is_zero           jour  jour_de_la_semaine  \\\n",
       "count   250670.000000   250670.000000  250670.000000       250670.000000   \n",
       "mean         0.113468        0.003774      15.671345            3.066502   \n",
       "std          0.317165        0.061316       8.803621            2.050388   \n",
       "min          0.000000        0.000000       1.000000            0.000000   \n",
       "25%          0.000000        0.000000       8.000000            1.000000   \n",
       "50%          0.000000        0.000000      16.000000            3.000000   \n",
       "75%          0.000000        0.000000      23.000000            5.000000   \n",
       "max          1.000000        1.000000      31.000000            6.000000   \n",
       "\n",
       "                mois          annee      date_S_AN    date_S_MOIS  \\\n",
       "count  250670.000000  250670.000000  250670.000000  250670.000000   \n",
       "mean        6.209503    2018.152499    2018.152679       6.209989   \n",
       "std         3.478458       1.544127       1.544129       3.477979   \n",
       "min         1.000000    2016.000000    2016.000000       1.000000   \n",
       "25%         3.000000    2017.000000    2017.000000       3.000000   \n",
       "50%         6.000000    2018.000000    2018.000000       6.000000   \n",
       "75%         9.000000    2019.000000    2019.000000       9.000000   \n",
       "max        12.000000    2021.000000    2021.000000      12.000000   \n",
       "\n",
       "         date_S_JOUR  \n",
       "count  250670.000000  \n",
       "mean       15.673810  \n",
       "std         8.803662  \n",
       "min         1.000000  \n",
       "25%         8.000000  \n",
       "50%        16.000000  \n",
       "75%        23.000000  \n",
       "max        31.000000  "
      ]
     },
     "execution_count": 35,
     "metadata": {},
     "output_type": "execute_result"
    }
   ],
   "source": [
    "df.describe()"
   ]
  },
  {
   "cell_type": "markdown",
   "id": "altered-moment",
   "metadata": {},
   "source": [
    "### Amélioration visuelle - Mise en forme des intitulés de colonnes"
   ]
  },
  {
   "cell_type": "code",
   "execution_count": 36,
   "id": "polished-anchor",
   "metadata": {},
   "outputs": [
    {
     "data": {
      "text/plain": [
       "Index(['CODE', 'DATE_ENT_1', 'ANNEE', 'MOIS', 'HEURE', 'MIN', 'age',\n",
       "       'DECISION', 'TRI', 'LIBELLE', 'DEB_CS', 'FIN_CS', 'SEXE', 'DATE_SOR',\n",
       "       'H_SOR', 'HM_SOR', 'tri', 'tri_is_missing', 'sortie_is_zero', 'DATE',\n",
       "       'jour', 'jour_de_la_semaine', 'mois', 'annee', 'dateT_E', 'date_S',\n",
       "       'date_S_AN', 'date_S_MOIS', 'date_S_JOUR', 'date_S_H', 'date_S_MN',\n",
       "       'dateT_S'],\n",
       "      dtype='object')"
      ]
     },
     "execution_count": 36,
     "metadata": {},
     "output_type": "execute_result"
    }
   ],
   "source": [
    "df.columns"
   ]
  },
  {
   "cell_type": "code",
   "execution_count": 37,
   "id": "different-exploration",
   "metadata": {
    "id": "za1VTrNODEkS",
    "outputId": "ea0aeb56-07e2-495e-c8a0-49362ce0778c"
   },
   "outputs": [],
   "source": [
    "df.drop([\"MOIS\", \"ANNEE\",\"DEB_CS\",\"FIN_CS\",\"TRI\",'H_SOR', 'HM_SOR'], axis=1, inplace=True)  "
   ]
  },
  {
   "cell_type": "markdown",
   "id": "attractive-graphics",
   "metadata": {},
   "source": [
    "DATENT_1 et DATE_SOR seront supprimées après vérification des durées"
   ]
  },
  {
   "cell_type": "code",
   "execution_count": 38,
   "id": "institutional-animation",
   "metadata": {
    "id": "CfPJS2y0DEkS",
    "outputId": "9af67ae5-312d-48c5-a312-241f78b69718"
   },
   "outputs": [],
   "source": [
    "dict_rename = {\"CODE\": \"code\",\n",
    "               \"HEURE\": \"hour\",\n",
    "               \"MIN\" : \"min\",\n",
    "               \"DECISION\": \"decision\",\n",
    "               \"DATE\": \"date\",\n",
    "               \"jour\": \"day\",\n",
    "               \"jour_de_la_semaine\": \"week_day\",\n",
    "               \"mois\": \"month\",\n",
    "               \"annee\": \"year\",\n",
    "               \"SEXE\" : \"sex\",\n",
    "               \"LIBELLE\" : \"label\"}\n",
    "\n",
    "df.rename(dict_rename, inplace=True, axis=1)"
   ]
  },
  {
   "cell_type": "markdown",
   "id": "needed-mapping",
   "metadata": {
    "id": "Fu0ws8K9DEkT"
   },
   "source": [
    "Vérifions que le remplacement a réussi"
   ]
  },
  {
   "cell_type": "code",
   "execution_count": 39,
   "id": "naked-industry",
   "metadata": {
    "id": "jHJzZ1LJDEkT",
    "outputId": "b0829d51-c53c-47f7-90a3-e130f7d11204"
   },
   "outputs": [
    {
     "data": {
      "text/plain": [
       "Index(['code', 'DATE_ENT_1', 'hour', 'min', 'age', 'decision', 'label', 'sex',\n",
       "       'DATE_SOR', 'tri', 'tri_is_missing', 'sortie_is_zero', 'date', 'day',\n",
       "       'week_day', 'month', 'year', 'dateT_E', 'date_S', 'date_S_AN',\n",
       "       'date_S_MOIS', 'date_S_JOUR', 'date_S_H', 'date_S_MN', 'dateT_S'],\n",
       "      dtype='object')"
      ]
     },
     "execution_count": 39,
     "metadata": {},
     "output_type": "execute_result"
    }
   ],
   "source": [
    "df.columns"
   ]
  },
  {
   "cell_type": "markdown",
   "id": "threaded-attitude",
   "metadata": {},
   "source": [
    "## 1e Travail sur l'âge"
   ]
  },
  {
   "cell_type": "markdown",
   "id": "logical-cotton",
   "metadata": {
    "id": "uX4QpeQQDEkU"
   },
   "source": [
    "Quand un individu arrive aux urgences et ne peut donner son identité (dans le coma par exemple) on lui donne une date de naissance égale à la date du jour. Cela a pour effet de lui donner un âge à zéro.\n",
    "Cependant, il faut faire attention à l'hospitalisation des enfants (urgence code T602) où on peut très bien avoir des nouveaux-nés. \n",
    "On va remplacer l'âge des individus dont l'identité était inconnue par la médiane de l'âge (des adultest), uniquement pour le service de code T601 qui ne reçoit que des adultes.\n",
    "Pour que le modele s'en souvienne, on crée une variable booléenne qui prendra en compte le fait que l'identité était inconnue ou non."
   ]
  },
  {
   "cell_type": "code",
   "execution_count": 40,
   "id": "widespread-cream",
   "metadata": {
    "id": "--P7kcorDEkU"
   },
   "outputs": [],
   "source": [
    "df.loc[(df[\"age\"]==0) & (df[\"code\"]==\"T601\"), \"age\"] = np.nan  # on crée 156 valeurs manquantes"
   ]
  },
  {
   "cell_type": "code",
   "execution_count": 41,
   "id": "confidential-affect",
   "metadata": {
    "id": "zqCklivyDEkU",
    "outputId": "3f6045db-7eac-44b0-a732-3227f84f3e43"
   },
   "outputs": [
    {
     "data": {
      "text/plain": [
       "code                0\n",
       "DATE_ENT_1          0\n",
       "hour                0\n",
       "min                 0\n",
       "age               156\n",
       "decision            0\n",
       "label               0\n",
       "sex                 0\n",
       "DATE_SOR            0\n",
       "tri                 0\n",
       "tri_is_missing      0\n",
       "sortie_is_zero      0\n",
       "date                0\n",
       "day                 0\n",
       "week_day            0\n",
       "month               0\n",
       "year                0\n",
       "dateT_E             0\n",
       "date_S              0\n",
       "date_S_AN           0\n",
       "date_S_MOIS         0\n",
       "date_S_JOUR         0\n",
       "date_S_H            0\n",
       "date_S_MN           0\n",
       "dateT_S             0\n",
       "dtype: int64"
      ]
     },
     "execution_count": 41,
     "metadata": {},
     "output_type": "execute_result"
    }
   ],
   "source": [
    "df.isna().sum()"
   ]
  },
  {
   "cell_type": "code",
   "execution_count": 42,
   "id": "humanitarian-federation",
   "metadata": {
    "id": "Syj6edGKDEkU"
   },
   "outputs": [],
   "source": [
    "df[\"identity_is_missing\"] = np.where(np.isnan(df.age), 1, 0)"
   ]
  },
  {
   "cell_type": "code",
   "execution_count": 43,
   "id": "peaceful-administration",
   "metadata": {},
   "outputs": [
    {
     "data": {
      "text/plain": [
       "40.60410959"
      ]
     },
     "execution_count": 43,
     "metadata": {},
     "output_type": "execute_result"
    }
   ],
   "source": [
    "df.age[(df.code == 'T601')].median()"
   ]
  },
  {
   "cell_type": "code",
   "execution_count": 44,
   "id": "pleased-rolling",
   "metadata": {
    "id": "kHsSUxRjDEkU",
    "outputId": "f9d6e7f5-cb91-467b-af95-d09a9821cae0"
   },
   "outputs": [],
   "source": [
    "median_age = df.age[(df.code == 'T601')].median()   #ça fait un age media à 41 au lieu de 26 si on prend adultes et enfants\n",
    "df.age.fillna(value=median_age, inplace=True)"
   ]
  },
  {
   "cell_type": "markdown",
   "id": "flying-symbol",
   "metadata": {},
   "source": [
    "## 1f Création d'une variable calculant la duree de presence aux urgences (sortie - entrée)"
   ]
  },
  {
   "cell_type": "code",
   "execution_count": 45,
   "id": "gothic-vulnerability",
   "metadata": {},
   "outputs": [],
   "source": [
    "df[\"delta_time\"] = (df[\"dateT_S\"]-df[\"dateT_E\"]) / np.timedelta64(1, \"h\")\n",
    "df.delta_time = df[\"delta_time\"].apply(lambda x: round(x, 2))"
   ]
  },
  {
   "cell_type": "markdown",
   "id": "selected-spyware",
   "metadata": {},
   "source": [
    "### réorganisation des colonnes"
   ]
  },
  {
   "cell_type": "code",
   "execution_count": 46,
   "id": "stuffed-memphis",
   "metadata": {},
   "outputs": [],
   "source": [
    "df1=df[['dateT_E','DATE_ENT_1','DATE_SOR','dateT_S','delta_time', 'code', 'age','sex','tri','label','decision',\n",
    "    'date', 'year','month','day', 'week_day', 'hour', 'min',\n",
    "    'date_S', 'date_S_AN','date_S_MOIS', 'date_S_JOUR', 'date_S_H', 'date_S_MN',\n",
    "    'tri_is_missing', \"identity_is_missing\",'sortie_is_zero']]\n",
    "df=df1"
   ]
  },
  {
   "cell_type": "code",
   "execution_count": 47,
   "id": "unnecessary-europe",
   "metadata": {},
   "outputs": [
    {
     "data": {
      "text/html": [
       "<div>\n",
       "<style scoped>\n",
       "    .dataframe tbody tr th:only-of-type {\n",
       "        vertical-align: middle;\n",
       "    }\n",
       "\n",
       "    .dataframe tbody tr th {\n",
       "        vertical-align: top;\n",
       "    }\n",
       "\n",
       "    .dataframe thead th {\n",
       "        text-align: right;\n",
       "    }\n",
       "</style>\n",
       "<table border=\"1\" class=\"dataframe\">\n",
       "  <thead>\n",
       "    <tr style=\"text-align: right;\">\n",
       "      <th></th>\n",
       "      <th>dateT_E</th>\n",
       "      <th>DATE_ENT_1</th>\n",
       "      <th>DATE_SOR</th>\n",
       "      <th>dateT_S</th>\n",
       "      <th>delta_time</th>\n",
       "      <th>code</th>\n",
       "      <th>age</th>\n",
       "      <th>sex</th>\n",
       "      <th>tri</th>\n",
       "      <th>label</th>\n",
       "      <th>...</th>\n",
       "      <th>min</th>\n",
       "      <th>date_S</th>\n",
       "      <th>date_S_AN</th>\n",
       "      <th>date_S_MOIS</th>\n",
       "      <th>date_S_JOUR</th>\n",
       "      <th>date_S_H</th>\n",
       "      <th>date_S_MN</th>\n",
       "      <th>tri_is_missing</th>\n",
       "      <th>identity_is_missing</th>\n",
       "      <th>sortie_is_zero</th>\n",
       "    </tr>\n",
       "    <tr>\n",
       "      <th>INDEX</th>\n",
       "      <th></th>\n",
       "      <th></th>\n",
       "      <th></th>\n",
       "      <th></th>\n",
       "      <th></th>\n",
       "      <th></th>\n",
       "      <th></th>\n",
       "      <th></th>\n",
       "      <th></th>\n",
       "      <th></th>\n",
       "      <th></th>\n",
       "      <th></th>\n",
       "      <th></th>\n",
       "      <th></th>\n",
       "      <th></th>\n",
       "      <th></th>\n",
       "      <th></th>\n",
       "      <th></th>\n",
       "      <th></th>\n",
       "      <th></th>\n",
       "      <th></th>\n",
       "    </tr>\n",
       "  </thead>\n",
       "  <tbody>\n",
       "    <tr>\n",
       "      <th>211808</th>\n",
       "      <td>2016-01-02 20:11:00</td>\n",
       "      <td>02/01/2016</td>\n",
       "      <td>02/01/2016</td>\n",
       "      <td>2016-01-02 21:54:00</td>\n",
       "      <td>1.72</td>\n",
       "      <td>T601</td>\n",
       "      <td>85.997260</td>\n",
       "      <td>F</td>\n",
       "      <td>2</td>\n",
       "      <td>Urgence vraie</td>\n",
       "      <td>...</td>\n",
       "      <td>11</td>\n",
       "      <td>2016-01-02</td>\n",
       "      <td>2016</td>\n",
       "      <td>1</td>\n",
       "      <td>2</td>\n",
       "      <td>21</td>\n",
       "      <td>54</td>\n",
       "      <td>0</td>\n",
       "      <td>0</td>\n",
       "      <td>0</td>\n",
       "    </tr>\n",
       "    <tr>\n",
       "      <th>230325</th>\n",
       "      <td>2016-02-28 09:29:00</td>\n",
       "      <td>28/02/2016</td>\n",
       "      <td>28/02/2016</td>\n",
       "      <td>2016-02-28 10:02:00</td>\n",
       "      <td>0.55</td>\n",
       "      <td>T601</td>\n",
       "      <td>86.150685</td>\n",
       "      <td>F</td>\n",
       "      <td>4</td>\n",
       "      <td>Lesion stable</td>\n",
       "      <td>...</td>\n",
       "      <td>29</td>\n",
       "      <td>2016-02-28</td>\n",
       "      <td>2016</td>\n",
       "      <td>2</td>\n",
       "      <td>28</td>\n",
       "      <td>10</td>\n",
       "      <td>02</td>\n",
       "      <td>0</td>\n",
       "      <td>0</td>\n",
       "      <td>0</td>\n",
       "    </tr>\n",
       "    <tr>\n",
       "      <th>224126</th>\n",
       "      <td>2016-02-10 18:30:00</td>\n",
       "      <td>10/02/2016</td>\n",
       "      <td>11/02/2016</td>\n",
       "      <td>2016-02-11 01:18:00</td>\n",
       "      <td>6.80</td>\n",
       "      <td>T601</td>\n",
       "      <td>86.172603</td>\n",
       "      <td>F</td>\n",
       "      <td>5</td>\n",
       "      <td>Pas de lesion</td>\n",
       "      <td>...</td>\n",
       "      <td>30</td>\n",
       "      <td>2016-02-11</td>\n",
       "      <td>2016</td>\n",
       "      <td>2</td>\n",
       "      <td>11</td>\n",
       "      <td>1</td>\n",
       "      <td>18</td>\n",
       "      <td>0</td>\n",
       "      <td>0</td>\n",
       "      <td>0</td>\n",
       "    </tr>\n",
       "    <tr>\n",
       "      <th>217870</th>\n",
       "      <td>2016-01-09 16:17:00</td>\n",
       "      <td>09/01/2016</td>\n",
       "      <td>09/01/2016</td>\n",
       "      <td>2016-01-09 18:45:00</td>\n",
       "      <td>2.47</td>\n",
       "      <td>T601</td>\n",
       "      <td>86.194521</td>\n",
       "      <td>F</td>\n",
       "      <td>4</td>\n",
       "      <td>Lesion stable</td>\n",
       "      <td>...</td>\n",
       "      <td>17</td>\n",
       "      <td>2016-01-09</td>\n",
       "      <td>2016</td>\n",
       "      <td>1</td>\n",
       "      <td>9</td>\n",
       "      <td>18</td>\n",
       "      <td>45</td>\n",
       "      <td>0</td>\n",
       "      <td>0</td>\n",
       "      <td>0</td>\n",
       "    </tr>\n",
       "    <tr>\n",
       "      <th>218392</th>\n",
       "      <td>2016-02-28 04:27:00</td>\n",
       "      <td>28/02/2016</td>\n",
       "      <td>28/02/2016</td>\n",
       "      <td>2016-02-28 08:15:00</td>\n",
       "      <td>3.80</td>\n",
       "      <td>T601</td>\n",
       "      <td>86.246575</td>\n",
       "      <td>M</td>\n",
       "      <td>3</td>\n",
       "      <td>Urgence moyenne</td>\n",
       "      <td>...</td>\n",
       "      <td>27</td>\n",
       "      <td>2016-02-28</td>\n",
       "      <td>2016</td>\n",
       "      <td>2</td>\n",
       "      <td>28</td>\n",
       "      <td>8</td>\n",
       "      <td>15</td>\n",
       "      <td>0</td>\n",
       "      <td>0</td>\n",
       "      <td>0</td>\n",
       "    </tr>\n",
       "  </tbody>\n",
       "</table>\n",
       "<p>5 rows × 27 columns</p>\n",
       "</div>"
      ],
      "text/plain": [
       "                   dateT_E  DATE_ENT_1    DATE_SOR             dateT_S  \\\n",
       "INDEX                                                                    \n",
       "211808 2016-01-02 20:11:00  02/01/2016  02/01/2016 2016-01-02 21:54:00   \n",
       "230325 2016-02-28 09:29:00  28/02/2016  28/02/2016 2016-02-28 10:02:00   \n",
       "224126 2016-02-10 18:30:00  10/02/2016  11/02/2016 2016-02-11 01:18:00   \n",
       "217870 2016-01-09 16:17:00  09/01/2016  09/01/2016 2016-01-09 18:45:00   \n",
       "218392 2016-02-28 04:27:00  28/02/2016  28/02/2016 2016-02-28 08:15:00   \n",
       "\n",
       "        delta_time  code        age sex  tri            label  ... min  \\\n",
       "INDEX                                                          ...       \n",
       "211808        1.72  T601  85.997260   F    2    Urgence vraie  ...  11   \n",
       "230325        0.55  T601  86.150685   F    4    Lesion stable  ...  29   \n",
       "224126        6.80  T601  86.172603   F    5    Pas de lesion  ...  30   \n",
       "217870        2.47  T601  86.194521   F    4    Lesion stable  ...  17   \n",
       "218392        3.80  T601  86.246575   M    3  Urgence moyenne  ...  27   \n",
       "\n",
       "           date_S  date_S_AN  date_S_MOIS  date_S_JOUR  date_S_H  date_S_MN  \\\n",
       "INDEX                                                                         \n",
       "211808 2016-01-02       2016            1            2        21         54   \n",
       "230325 2016-02-28       2016            2           28        10         02   \n",
       "224126 2016-02-11       2016            2           11         1         18   \n",
       "217870 2016-01-09       2016            1            9        18         45   \n",
       "218392 2016-02-28       2016            2           28         8         15   \n",
       "\n",
       "        tri_is_missing identity_is_missing  sortie_is_zero  \n",
       "INDEX                                                       \n",
       "211808               0                   0               0  \n",
       "230325               0                   0               0  \n",
       "224126               0                   0               0  \n",
       "217870               0                   0               0  \n",
       "218392               0                   0               0  \n",
       "\n",
       "[5 rows x 27 columns]"
      ]
     },
     "execution_count": 47,
     "metadata": {},
     "output_type": "execute_result"
    }
   ],
   "source": [
    "df.head()"
   ]
  },
  {
   "cell_type": "code",
   "execution_count": 48,
   "id": "insured-patrol",
   "metadata": {},
   "outputs": [
    {
     "data": {
      "text/plain": [
       "count    250670.000000\n",
       "mean          2.560145\n",
       "std          16.977658\n",
       "min        -183.730000\n",
       "25%           0.620000\n",
       "50%           1.680000\n",
       "75%           3.630000\n",
       "max        4566.380000\n",
       "Name: delta_time, dtype: float64"
      ]
     },
     "execution_count": 48,
     "metadata": {},
     "output_type": "execute_result"
    }
   ],
   "source": [
    "df['delta_time'].describe()"
   ]
  },
  {
   "cell_type": "markdown",
   "id": "acceptable-seller",
   "metadata": {},
   "source": [
    "### Gestion des délais négatifs\n",
    "On regarde la repartition selon la decision medicale. Et on adapte les corrections : avec la moyenne selon chaque type de decision."
   ]
  },
  {
   "cell_type": "code",
   "execution_count": 49,
   "id": "egyptian-deadline",
   "metadata": {},
   "outputs": [
    {
     "data": {
      "text/plain": [
       "[<matplotlib.lines.Line2D at 0x14d2d967580>]"
      ]
     },
     "execution_count": 49,
     "metadata": {},
     "output_type": "execute_result"
    },
    {
     "data": {
      "image/png": "[encoded data removed]",
      "text/plain": [
       "<Figure size 432x288 with 1 Axes>"
      ]
     },
     "metadata": {
      "needs_background": "light"
     },
     "output_type": "display_data"
    }
   ],
   "source": [
    "# étude des délais très importants \n",
    "delai_negatif = df.sort_values(by=['delta_time'],ascending=True ).head(20)\n",
    "delai_negatif = delai_negatif.delta_time\n",
    "\n",
    "import seaborn as sns\n",
    "plt.plot(np.arange(len(delai_negatif)),delai_negatif)\n"
   ]
  },
  {
   "cell_type": "code",
   "execution_count": 50,
   "id": "regional-european",
   "metadata": {},
   "outputs": [
    {
     "data": {
      "text/html": [
       "<div>\n",
       "<style scoped>\n",
       "    .dataframe tbody tr th:only-of-type {\n",
       "        vertical-align: middle;\n",
       "    }\n",
       "\n",
       "    .dataframe tbody tr th {\n",
       "        vertical-align: top;\n",
       "    }\n",
       "\n",
       "    .dataframe thead tr th {\n",
       "        text-align: left;\n",
       "    }\n",
       "\n",
       "    .dataframe thead tr:last-of-type th {\n",
       "        text-align: right;\n",
       "    }\n",
       "</style>\n",
       "<table border=\"1\" class=\"dataframe\">\n",
       "  <thead>\n",
       "    <tr>\n",
       "      <th></th>\n",
       "      <th colspan=\"3\" halign=\"left\">delta_time</th>\n",
       "    </tr>\n",
       "    <tr>\n",
       "      <th></th>\n",
       "      <th>count</th>\n",
       "      <th>mean</th>\n",
       "      <th>std</th>\n",
       "    </tr>\n",
       "    <tr>\n",
       "      <th>decision</th>\n",
       "      <th></th>\n",
       "      <th></th>\n",
       "      <th></th>\n",
       "    </tr>\n",
       "  </thead>\n",
       "  <tbody>\n",
       "    <tr>\n",
       "      <th>Patient admis</th>\n",
       "      <td>67</td>\n",
       "      <td>-15.815224</td>\n",
       "      <td>21.500778</td>\n",
       "    </tr>\n",
       "    <tr>\n",
       "      <th>Patient décédé</th>\n",
       "      <td>9</td>\n",
       "      <td>-2.421111</td>\n",
       "      <td>5.173204</td>\n",
       "    </tr>\n",
       "    <tr>\n",
       "      <th>Patient non admis</th>\n",
       "      <td>880</td>\n",
       "      <td>-13.520102</td>\n",
       "      <td>5.826969</td>\n",
       "    </tr>\n",
       "  </tbody>\n",
       "</table>\n",
       "</div>"
      ],
      "text/plain": [
       "                  delta_time                      \n",
       "                       count       mean        std\n",
       "decision                                          \n",
       "Patient admis             67 -15.815224  21.500778\n",
       "Patient décédé             9  -2.421111   5.173204\n",
       "Patient non admis        880 -13.520102   5.826969"
      ]
     },
     "execution_count": 50,
     "metadata": {},
     "output_type": "execute_result"
    }
   ],
   "source": [
    "df[(df.delta_time < 0)].groupby('decision').agg({'delta_time': ['count','mean','std']})"
   ]
  },
  {
   "cell_type": "code",
   "execution_count": 51,
   "id": "coral-neutral",
   "metadata": {},
   "outputs": [],
   "source": [
    "durée_admis = df[(df.delta_time >= 0) & (df.decision =='Patient admis')].delta_time.mean()\n",
    "durée_non_admis = df[(df.delta_time >= 0) & (df.decision =='Patient non admis')].delta_time.mean()\n",
    "durée_décès = df[(df.delta_time >= 0) & (df.decision =='Patient décédé')].delta_time.mean()   \n",
    " \n",
    "df.loc[(df.delta_time < 0) & (df.decision =='Patient admis'),'delta_time'] = durée_admis\n",
    "df.loc[(df.delta_time < 0) & (df.decision =='Patient non admis'),'delta_time'] = durée_non_admis\n",
    "df.loc[(df.delta_time < 0) & (df.decision =='Patient décédé'),'delta_time'] = durée_décès"
   ]
  },
  {
   "cell_type": "code",
   "execution_count": 52,
   "id": "valued-fountain",
   "metadata": {},
   "outputs": [
    {
     "data": {
      "text/html": [
       "<div>\n",
       "<style scoped>\n",
       "    .dataframe tbody tr th:only-of-type {\n",
       "        vertical-align: middle;\n",
       "    }\n",
       "\n",
       "    .dataframe tbody tr th {\n",
       "        vertical-align: top;\n",
       "    }\n",
       "\n",
       "    .dataframe thead th {\n",
       "        text-align: right;\n",
       "    }\n",
       "</style>\n",
       "<table border=\"1\" class=\"dataframe\">\n",
       "  <thead>\n",
       "    <tr style=\"text-align: right;\">\n",
       "      <th></th>\n",
       "      <th>dateT_E</th>\n",
       "      <th>DATE_ENT_1</th>\n",
       "      <th>DATE_SOR</th>\n",
       "      <th>dateT_S</th>\n",
       "      <th>delta_time</th>\n",
       "      <th>code</th>\n",
       "      <th>age</th>\n",
       "      <th>sex</th>\n",
       "      <th>tri</th>\n",
       "      <th>label</th>\n",
       "      <th>...</th>\n",
       "      <th>min</th>\n",
       "      <th>date_S</th>\n",
       "      <th>date_S_AN</th>\n",
       "      <th>date_S_MOIS</th>\n",
       "      <th>date_S_JOUR</th>\n",
       "      <th>date_S_H</th>\n",
       "      <th>date_S_MN</th>\n",
       "      <th>tri_is_missing</th>\n",
       "      <th>identity_is_missing</th>\n",
       "      <th>sortie_is_zero</th>\n",
       "    </tr>\n",
       "    <tr>\n",
       "      <th>INDEX</th>\n",
       "      <th></th>\n",
       "      <th></th>\n",
       "      <th></th>\n",
       "      <th></th>\n",
       "      <th></th>\n",
       "      <th></th>\n",
       "      <th></th>\n",
       "      <th></th>\n",
       "      <th></th>\n",
       "      <th></th>\n",
       "      <th></th>\n",
       "      <th></th>\n",
       "      <th></th>\n",
       "      <th></th>\n",
       "      <th></th>\n",
       "      <th></th>\n",
       "      <th></th>\n",
       "      <th></th>\n",
       "      <th></th>\n",
       "      <th></th>\n",
       "      <th></th>\n",
       "    </tr>\n",
       "  </thead>\n",
       "  <tbody>\n",
       "  </tbody>\n",
       "</table>\n",
       "<p>0 rows × 27 columns</p>\n",
       "</div>"
      ],
      "text/plain": [
       "Empty DataFrame\n",
       "Columns: [dateT_E, DATE_ENT_1, DATE_SOR, dateT_S, delta_time, code, age, sex, tri, label, decision, date, year, month, day, week_day, hour, min, date_S, date_S_AN, date_S_MOIS, date_S_JOUR, date_S_H, date_S_MN, tri_is_missing, identity_is_missing, sortie_is_zero]\n",
       "Index: []\n",
       "\n",
       "[0 rows x 27 columns]"
      ]
     },
     "execution_count": 52,
     "metadata": {},
     "output_type": "execute_result"
    }
   ],
   "source": [
    "#Vérification\n",
    "df[(df.delta_time < 0)]"
   ]
  },
  {
   "cell_type": "markdown",
   "id": "robust-reset",
   "metadata": {},
   "source": [
    "### Gestion des délais positifs trop importants"
   ]
  },
  {
   "cell_type": "code",
   "execution_count": 53,
   "id": "traditional-watch",
   "metadata": {},
   "outputs": [
    {
     "data": {
      "text/plain": [
       "0.250     0.63\n",
       "0.500     1.70\n",
       "0.750     3.63\n",
       "0.800     4.25\n",
       "0.900     6.03\n",
       "0.950     7.65\n",
       "0.999    19.70\n",
       "Name: delta_time, dtype: float64"
      ]
     },
     "execution_count": 53,
     "metadata": {},
     "output_type": "execute_result"
    }
   ],
   "source": [
    "#### Travail sur la DUREE par TRI, DECISION, PAR AGE\n",
    "df.delta_time.quantile([0.25,0.5,0.75, 0.8,0.9,0.95, 0.999]) "
   ]
  },
  {
   "cell_type": "code",
   "execution_count": 54,
   "id": "bearing-saturday",
   "metadata": {},
   "outputs": [
    {
     "data": {
      "text/plain": [
       "[<matplotlib.lines.Line2D at 0x14d0fb36580>]"
      ]
     },
     "execution_count": 54,
     "metadata": {},
     "output_type": "execute_result"
    },
    {
     "data": {
      "image/png": "[encoded data removed]",
      "text/plain": [
       "<Figure size 432x288 with 1 Axes>"
      ]
     },
     "metadata": {
      "needs_background": "light"
     },
     "output_type": "display_data"
    }
   ],
   "source": [
    "toto = df.sort_values(by=['delta_time'],ascending=False ).head(500)\n",
    "toto = toto.delta_time\n",
    "\n",
    "import seaborn as sns\n",
    "plt.plot(np.arange(len(toto)),toto)"
   ]
  },
  {
   "cell_type": "markdown",
   "id": "center-teach",
   "metadata": {},
   "source": [
    "### On supprime les 100 valeurs extrêmes\n",
    "En effet il n'est pas plausible de rester plusieurs jours dans le service des urgences; il s'agit d'erreurs de saisie.\n",
    "100 valeurs sur plus de 200 000 n'impactera pas la suite de l'analyse."
   ]
  },
  {
   "cell_type": "code",
   "execution_count": 55,
   "id": "duplicate-cleaner",
   "metadata": {},
   "outputs": [],
   "source": [
    "df = df.sort_values(by=['delta_time'],ascending=False )\n",
    "# ON TRIE ET ON SUPPRIME LES 100 PLUS ELEVES\n",
    "df = df.iloc[100:]"
   ]
  },
  {
   "cell_type": "markdown",
   "id": "magnetic-premium",
   "metadata": {},
   "source": [
    "La distribution des observations restantes selon le tri (gravité du patient) et selon la decision, reste cohérente: le patient peu grave (tri 5) ou qui ne sera pas gardé à l'hôpital, reste en moyenne moins longtemps. \n",
    "La durée maximale de 26 heures est sans doute encore un peu élevée mais on peut arrêter là les corrections."
   ]
  },
  {
   "cell_type": "code",
   "execution_count": 56,
   "id": "expired-respect",
   "metadata": {},
   "outputs": [
    {
     "data": {
      "text/html": [
       "<div>\n",
       "<style scoped>\n",
       "    .dataframe tbody tr th:only-of-type {\n",
       "        vertical-align: middle;\n",
       "    }\n",
       "\n",
       "    .dataframe tbody tr th {\n",
       "        vertical-align: top;\n",
       "    }\n",
       "\n",
       "    .dataframe thead tr th {\n",
       "        text-align: left;\n",
       "    }\n",
       "\n",
       "    .dataframe thead tr:last-of-type th {\n",
       "        text-align: right;\n",
       "    }\n",
       "</style>\n",
       "<table border=\"1\" class=\"dataframe\">\n",
       "  <thead>\n",
       "    <tr>\n",
       "      <th></th>\n",
       "      <th colspan=\"2\" halign=\"left\">delta_time</th>\n",
       "    </tr>\n",
       "    <tr>\n",
       "      <th></th>\n",
       "      <th>mean</th>\n",
       "      <th>std</th>\n",
       "    </tr>\n",
       "    <tr>\n",
       "      <th>tri</th>\n",
       "      <th></th>\n",
       "      <th></th>\n",
       "    </tr>\n",
       "  </thead>\n",
       "  <tbody>\n",
       "    <tr>\n",
       "      <th>1</th>\n",
       "      <td>2.853821</td>\n",
       "      <td>2.481621</td>\n",
       "    </tr>\n",
       "    <tr>\n",
       "      <th>2</th>\n",
       "      <td>3.125586</td>\n",
       "      <td>2.652383</td>\n",
       "    </tr>\n",
       "    <tr>\n",
       "      <th>3</th>\n",
       "      <td>2.641735</td>\n",
       "      <td>2.736421</td>\n",
       "    </tr>\n",
       "    <tr>\n",
       "      <th>4</th>\n",
       "      <td>2.831106</td>\n",
       "      <td>2.655303</td>\n",
       "    </tr>\n",
       "    <tr>\n",
       "      <th>5</th>\n",
       "      <td>1.760944</td>\n",
       "      <td>2.093700</td>\n",
       "    </tr>\n",
       "  </tbody>\n",
       "</table>\n",
       "</div>"
      ],
      "text/plain": [
       "    delta_time          \n",
       "          mean       std\n",
       "tri                     \n",
       "1     2.853821  2.481621\n",
       "2     3.125586  2.652383\n",
       "3     2.641735  2.736421\n",
       "4     2.831106  2.655303\n",
       "5     1.760944  2.093700"
      ]
     },
     "execution_count": 56,
     "metadata": {},
     "output_type": "execute_result"
    }
   ],
   "source": [
    "df.groupby(['tri']).agg({'delta_time': ['mean','std']})"
   ]
  },
  {
   "cell_type": "code",
   "execution_count": 57,
   "id": "covered-athletics",
   "metadata": {},
   "outputs": [
    {
     "data": {
      "text/html": [
       "<div>\n",
       "<style scoped>\n",
       "    .dataframe tbody tr th:only-of-type {\n",
       "        vertical-align: middle;\n",
       "    }\n",
       "\n",
       "    .dataframe tbody tr th {\n",
       "        vertical-align: top;\n",
       "    }\n",
       "\n",
       "    .dataframe thead tr th {\n",
       "        text-align: left;\n",
       "    }\n",
       "\n",
       "    .dataframe thead tr:last-of-type th {\n",
       "        text-align: right;\n",
       "    }\n",
       "</style>\n",
       "<table border=\"1\" class=\"dataframe\">\n",
       "  <thead>\n",
       "    <tr>\n",
       "      <th></th>\n",
       "      <th colspan=\"2\" halign=\"left\">delta_time</th>\n",
       "    </tr>\n",
       "    <tr>\n",
       "      <th></th>\n",
       "      <th>mean</th>\n",
       "      <th>std</th>\n",
       "    </tr>\n",
       "    <tr>\n",
       "      <th>decision</th>\n",
       "      <th></th>\n",
       "      <th></th>\n",
       "    </tr>\n",
       "  </thead>\n",
       "  <tbody>\n",
       "    <tr>\n",
       "      <th>Patient admis</th>\n",
       "      <td>4.514305</td>\n",
       "      <td>3.005684</td>\n",
       "    </tr>\n",
       "    <tr>\n",
       "      <th>Patient décédé</th>\n",
       "      <td>3.645495</td>\n",
       "      <td>4.161096</td>\n",
       "    </tr>\n",
       "    <tr>\n",
       "      <th>Patient non admis</th>\n",
       "      <td>1.816812</td>\n",
       "      <td>2.034838</td>\n",
       "    </tr>\n",
       "  </tbody>\n",
       "</table>\n",
       "</div>"
      ],
      "text/plain": [
       "                  delta_time          \n",
       "                        mean       std\n",
       "decision                              \n",
       "Patient admis       4.514305  3.005684\n",
       "Patient décédé      3.645495  4.161096\n",
       "Patient non admis   1.816812  2.034838"
      ]
     },
     "execution_count": 57,
     "metadata": {},
     "output_type": "execute_result"
    }
   ],
   "source": [
    "df.groupby('decision').agg({'delta_time': ['mean','std']})"
   ]
  },
  {
   "cell_type": "code",
   "execution_count": 58,
   "id": "grand-inspiration",
   "metadata": {},
   "outputs": [
    {
     "data": {
      "text/plain": [
       "count    250570.000000\n",
       "mean          2.504372\n",
       "std           2.602690\n",
       "min           0.000000\n",
       "25%           0.630000\n",
       "50%           1.700000\n",
       "75%           3.630000\n",
       "max          26.720000\n",
       "Name: delta_time, dtype: float64"
      ]
     },
     "execution_count": 58,
     "metadata": {},
     "output_type": "execute_result"
    }
   ],
   "source": [
    "df.delta_time.describe()"
   ]
  },
  {
   "cell_type": "code",
   "execution_count": 59,
   "id": "exotic-climb",
   "metadata": {},
   "outputs": [
    {
     "data": {
      "text/plain": [
       "Text(0.5, 1.0, \"Distribution de la durée des patients au service selon leur classe d'admission\")"
      ]
     },
     "execution_count": 59,
     "metadata": {},
     "output_type": "execute_result"
    },
    {
     "data": {
      "image/png": "[encoded data removed]",
      "text/plain": [
       "<Figure size 720x576 with 1 Axes>"
      ]
     },
     "metadata": {
      "needs_background": "light"
     },
     "output_type": "display_data"
    }
   ],
   "source": [
    "plt.figure(figsize=(10, 8))\n",
    "sns.kdeplot(data= df, x='delta_time',hue= 'decision')\n",
    "plt.title(\"Distribution de la durée des patients au service selon leur classe d'admission\")"
   ]
  },
  {
   "cell_type": "code",
   "execution_count": 60,
   "id": "strategic-addiction",
   "metadata": {},
   "outputs": [],
   "source": [
    "df.drop(['DATE_ENT_1', 'DATE_SOR'], axis=1, inplace=True)  "
   ]
  },
  {
   "cell_type": "code",
   "execution_count": 61,
   "id": "close-contents",
   "metadata": {},
   "outputs": [
    {
     "data": {
      "text/plain": [
       "Index(['dateT_E', 'dateT_S', 'delta_time', 'code', 'age', 'sex', 'tri',\n",
       "       'label', 'decision', 'date', 'year', 'month', 'day', 'week_day', 'hour',\n",
       "       'min', 'date_S', 'date_S_AN', 'date_S_MOIS', 'date_S_JOUR', 'date_S_H',\n",
       "       'date_S_MN', 'tri_is_missing', 'identity_is_missing', 'sortie_is_zero'],\n",
       "      dtype='object')"
      ]
     },
     "execution_count": 61,
     "metadata": {},
     "output_type": "execute_result"
    }
   ],
   "source": [
    "df.columns"
   ]
  },
  {
   "cell_type": "markdown",
   "id": "affiliated-causing",
   "metadata": {},
   "source": [
    "### Drop de l'unique valeur non renseignée sur le sexe"
   ]
  },
  {
   "cell_type": "code",
   "execution_count": 62,
   "id": "contrary-dakota",
   "metadata": {},
   "outputs": [
    {
     "data": {
      "text/plain": [
       "M    133623\n",
       "F    116946\n",
       "I         1\n",
       "Name: sex, dtype: int64"
      ]
     },
     "execution_count": 62,
     "metadata": {},
     "output_type": "execute_result"
    }
   ],
   "source": [
    "df.sex.value_counts()"
   ]
  },
  {
   "cell_type": "code",
   "execution_count": 63,
   "id": "ultimate-tyler",
   "metadata": {},
   "outputs": [],
   "source": [
    "df = df[df.sex!=\"I\"]"
   ]
  },
  {
   "cell_type": "markdown",
   "id": "micro-harassment",
   "metadata": {},
   "source": [
    "# 2 - Étude du 2eme Dataset : Calendrier avec féries et vacances"
   ]
  },
  {
   "cell_type": "code",
   "execution_count": 64,
   "id": "flush-elite",
   "metadata": {},
   "outputs": [
    {
     "data": {
      "text/html": [
       "<div>\n",
       "<style scoped>\n",
       "    .dataframe tbody tr th:only-of-type {\n",
       "        vertical-align: middle;\n",
       "    }\n",
       "\n",
       "    .dataframe tbody tr th {\n",
       "        vertical-align: top;\n",
       "    }\n",
       "\n",
       "    .dataframe thead th {\n",
       "        text-align: right;\n",
       "    }\n",
       "</style>\n",
       "<table border=\"1\" class=\"dataframe\">\n",
       "  <thead>\n",
       "    <tr style=\"text-align: right;\">\n",
       "      <th></th>\n",
       "      <th>DATE_JOUR</th>\n",
       "      <th>FERIE_CHOME</th>\n",
       "      <th>TYPE_FETE</th>\n",
       "      <th>VACANCES_SCOLAIRES</th>\n",
       "      <th>annee</th>\n",
       "    </tr>\n",
       "  </thead>\n",
       "  <tbody>\n",
       "    <tr>\n",
       "      <th>0</th>\n",
       "      <td>01/01/2016</td>\n",
       "      <td>FERIE</td>\n",
       "      <td>NOUVEL AN</td>\n",
       "      <td>oui</td>\n",
       "      <td>2016</td>\n",
       "    </tr>\n",
       "    <tr>\n",
       "      <th>1</th>\n",
       "      <td>02/01/2016</td>\n",
       "      <td>CHOME</td>\n",
       "      <td>samedi 02/01</td>\n",
       "      <td>oui</td>\n",
       "      <td>2016</td>\n",
       "    </tr>\n",
       "    <tr>\n",
       "      <th>2</th>\n",
       "      <td>03/01/2016</td>\n",
       "      <td>NaN</td>\n",
       "      <td>NaN</td>\n",
       "      <td>oui</td>\n",
       "      <td>2016</td>\n",
       "    </tr>\n",
       "    <tr>\n",
       "      <th>3</th>\n",
       "      <td>04/01/2016</td>\n",
       "      <td>NaN</td>\n",
       "      <td>NaN</td>\n",
       "      <td>oui</td>\n",
       "      <td>2016</td>\n",
       "    </tr>\n",
       "    <tr>\n",
       "      <th>4</th>\n",
       "      <td>05/01/2016</td>\n",
       "      <td>NaN</td>\n",
       "      <td>NaN</td>\n",
       "      <td>oui</td>\n",
       "      <td>2016</td>\n",
       "    </tr>\n",
       "  </tbody>\n",
       "</table>\n",
       "</div>"
      ],
      "text/plain": [
       "    DATE_JOUR FERIE_CHOME     TYPE_FETE VACANCES_SCOLAIRES  annee\n",
       "0  01/01/2016       FERIE     NOUVEL AN                oui   2016\n",
       "1  02/01/2016       CHOME  samedi 02/01                oui   2016\n",
       "2  03/01/2016         NaN           NaN                oui   2016\n",
       "3  04/01/2016         NaN           NaN                oui   2016\n",
       "4  05/01/2016         NaN           NaN                oui   2016"
      ]
     },
     "execution_count": 64,
     "metadata": {},
     "output_type": "execute_result"
    }
   ],
   "source": [
    "df1 = pd.read_csv(\"data/JOUR_FERIE_CHOME_VACANCES_SCOLAIRES_V3.csv\", sep=\";\", encoding=\"ISO-8859–1\")\n",
    "df1.head()"
   ]
  },
  {
   "cell_type": "code",
   "execution_count": 65,
   "id": "sudden-folks",
   "metadata": {},
   "outputs": [
    {
     "data": {
      "text/plain": [
       "DATE_JOUR              0.000000\n",
       "FERIE_CHOME           63.458029\n",
       "TYPE_FETE             63.777372\n",
       "VACANCES_SCOLAIRES     0.000000\n",
       "annee                  0.000000\n",
       "dtype: float64"
      ]
     },
     "execution_count": 65,
     "metadata": {},
     "output_type": "execute_result"
    }
   ],
   "source": [
    "df1.isna().mean()*100"
   ]
  },
  {
   "cell_type": "code",
   "execution_count": 66,
   "id": "similar-appreciation",
   "metadata": {},
   "outputs": [
    {
     "data": {
      "text/plain": [
       "0        87.016230\n",
       "FERIE     9.363296\n",
       "CHOME     3.620474\n",
       "Name: FERIE_CHOME, dtype: float64"
      ]
     },
     "execution_count": 66,
     "metadata": {},
     "output_type": "execute_result"
    }
   ],
   "source": [
    "df1.FERIE_CHOME.value_counts(normalize=True)*100"
   ]
  },
  {
   "cell_type": "code",
   "execution_count": 67,
   "id": "registered-netherlands",
   "metadata": {},
   "outputs": [
    {
     "data": {
      "text/plain": [
       "array(['oui', 'non'], dtype=object)"
      ]
     },
     "execution_count": 67,
     "metadata": {},
     "output_type": "execute_result"
    }
   ],
   "source": [
    "df1.VACANCES_SCOLAIRES.unique()"
   ]
  },
  {
   "cell_type": "code",
   "execution_count": 68,
   "id": "applicable-colombia",
   "metadata": {},
   "outputs": [],
   "source": [
    "df1.FERIE_CHOME.replace(\"0\", \"travail\", inplace=True)\n",
    "df1.FERIE_CHOME.replace(\"CHOME\", \"travail\", inplace=True)\n",
    "df1.TYPE_FETE.replace(\"0\", \"normal\", inplace=True)\n",
    "df1.VACANCES_SCOLAIRES.replace(\"0\", \"non\", inplace=True)"
   ]
  },
  {
   "cell_type": "code",
   "execution_count": 69,
   "id": "mobile-cloud",
   "metadata": {},
   "outputs": [
    {
     "data": {
      "text/plain": [
       "array(['NOUVEL AN', 'samedi 02/01', nan, 'Pâques', 'FETE DU TRAVAIL',\n",
       "       'ASCENSION', 'Vendredi 06/05', 'Samedi 07/05', 'VICTOIRE 1945',\n",
       "       'PENTECOTE', 'FETE NATIONALE', 'Vendredi 15/07', 'Samedi 16/07',\n",
       "       'ASSOMPTION', 'FETE NC', 'TOUSSAINT', 'ARMISTICE 1918',\n",
       "       'Samedi 12/11', 'NOEL', 'normal', 'Vendredi 26/05', 'Samedi 27/05',\n",
       "       'Samedi 15/07', 'Lundi 14/08', 'lundi 30/04', 'vendredi 11/05',\n",
       "       'vendredi 02/11', 'lundi 24/12', 'LUNDI DE Pâques',\n",
       "       'PONT FETE DU TRAVAIL', 'PONT VICTOIRE 1945', 'PONT ASCENSION',\n",
       "       'PONT FETE NAT', 'FETE CITOYENNE', 'PONT FETE CITOYENNE',\n",
       "       'PONT NOEL'], dtype=object)"
      ]
     },
     "execution_count": 69,
     "metadata": {},
     "output_type": "execute_result"
    }
   ],
   "source": [
    "df1.TYPE_FETE.unique()"
   ]
  },
  {
   "cell_type": "markdown",
   "id": "annoying-milan",
   "metadata": {},
   "source": [
    "Le type de fête ne présente pas d'intérêt pour notre étude\n",
    "La notion de jour chômé correspond en fait à des ponts concernant l'hôpital.\n",
    "C'est pertinent en interne, pour la gestion RH, mais cela peut varier d'une administration à l'autre.\n",
    "A l'échelle du territoire, seules les vacances et jours fériés seront pertinents pour notre étude."
   ]
  },
  {
   "cell_type": "code",
   "execution_count": 70,
   "id": "unable-technique",
   "metadata": {},
   "outputs": [
    {
     "data": {
      "text/plain": [
       "DATE_JOUR             object\n",
       "FERIE_CHOME           object\n",
       "TYPE_FETE             object\n",
       "VACANCES_SCOLAIRES    object\n",
       "annee                  int64\n",
       "dtype: object"
      ]
     },
     "execution_count": 70,
     "metadata": {},
     "output_type": "execute_result"
    }
   ],
   "source": [
    "df1.dtypes"
   ]
  },
  {
   "cell_type": "code",
   "execution_count": 71,
   "id": "linear-clearance",
   "metadata": {},
   "outputs": [],
   "source": [
    "df1[\"date\"] = pd.to_datetime(df1.DATE_JOUR)"
   ]
  },
  {
   "cell_type": "code",
   "execution_count": 72,
   "id": "finnish-fruit",
   "metadata": {},
   "outputs": [],
   "source": [
    "df1.sort_values(by=\"DATE_JOUR\", inplace=True)"
   ]
  },
  {
   "cell_type": "code",
   "execution_count": 73,
   "id": "inclusive-warren",
   "metadata": {},
   "outputs": [
    {
     "data": {
      "text/html": [
       "<div>\n",
       "<style scoped>\n",
       "    .dataframe tbody tr th:only-of-type {\n",
       "        vertical-align: middle;\n",
       "    }\n",
       "\n",
       "    .dataframe tbody tr th {\n",
       "        vertical-align: top;\n",
       "    }\n",
       "\n",
       "    .dataframe thead th {\n",
       "        text-align: right;\n",
       "    }\n",
       "</style>\n",
       "<table border=\"1\" class=\"dataframe\">\n",
       "  <thead>\n",
       "    <tr style=\"text-align: right;\">\n",
       "      <th></th>\n",
       "      <th>FERIE_CHOME</th>\n",
       "      <th>VACANCES_SCOLAIRES</th>\n",
       "      <th>date</th>\n",
       "    </tr>\n",
       "  </thead>\n",
       "  <tbody>\n",
       "    <tr>\n",
       "      <th>0</th>\n",
       "      <td>FERIE</td>\n",
       "      <td>oui</td>\n",
       "      <td>2016-01-01</td>\n",
       "    </tr>\n",
       "    <tr>\n",
       "      <th>366</th>\n",
       "      <td>FERIE</td>\n",
       "      <td>oui</td>\n",
       "      <td>2017-01-01</td>\n",
       "    </tr>\n",
       "    <tr>\n",
       "      <th>731</th>\n",
       "      <td>FERIE</td>\n",
       "      <td>oui</td>\n",
       "      <td>2018-01-01</td>\n",
       "    </tr>\n",
       "    <tr>\n",
       "      <th>1096</th>\n",
       "      <td>FERIE</td>\n",
       "      <td>oui</td>\n",
       "      <td>2019-01-01</td>\n",
       "    </tr>\n",
       "    <tr>\n",
       "      <th>1461</th>\n",
       "      <td>FERIE</td>\n",
       "      <td>oui</td>\n",
       "      <td>2020-01-01</td>\n",
       "    </tr>\n",
       "  </tbody>\n",
       "</table>\n",
       "</div>"
      ],
      "text/plain": [
       "     FERIE_CHOME VACANCES_SCOLAIRES       date\n",
       "0          FERIE                oui 2016-01-01\n",
       "366        FERIE                oui 2017-01-01\n",
       "731        FERIE                oui 2018-01-01\n",
       "1096       FERIE                oui 2019-01-01\n",
       "1461       FERIE                oui 2020-01-01"
      ]
     },
     "execution_count": 73,
     "metadata": {},
     "output_type": "execute_result"
    }
   ],
   "source": [
    "df1.drop([\"DATE_JOUR\", \"TYPE_FETE\", \"annee\"], axis=1, inplace=True)\n",
    "df1.head()"
   ]
  },
  {
   "cell_type": "code",
   "execution_count": 74,
   "id": "invisible-assistant",
   "metadata": {},
   "outputs": [],
   "source": [
    "df1.rename({\"FERIE_CHOME\": \"ferie_chome\",\n",
    "            \"VACANCES_SCOLAIRES\": \"school vacation\",\n",
    "            \"HEURE\": \"hour\"},\n",
    "            axis=1, inplace=True)"
   ]
  },
  {
   "cell_type": "code",
   "execution_count": 75,
   "id": "sustained-negative",
   "metadata": {},
   "outputs": [],
   "source": [
    "df1.ferie_chome.fillna(\"travail\", inplace=True)\n",
    "df1[\"school vacation\"].fillna(\"non\", inplace=True)"
   ]
  },
  {
   "cell_type": "markdown",
   "id": "civilian-object",
   "metadata": {},
   "source": [
    "On remplit les valeurs manquantes: par defaut les jours qui ne sont ni fériés ni chômés sont des jours de travail, ce qui n'est pas vacances scolaires est renseigné à non"
   ]
  },
  {
   "cell_type": "code",
   "execution_count": 76,
   "id": "injured-nudist",
   "metadata": {},
   "outputs": [
    {
     "data": {
      "text/plain": [
       "ferie_chome        0\n",
       "school vacation    0\n",
       "date               0\n",
       "dtype: int64"
      ]
     },
     "execution_count": 76,
     "metadata": {},
     "output_type": "execute_result"
    }
   ],
   "source": [
    "# vérification\n",
    "df1.isna().sum()"
   ]
  },
  {
   "cell_type": "markdown",
   "id": "shaped-passport",
   "metadata": {},
   "source": [
    "# 3 - Croisement des fichiers"
   ]
  },
  {
   "cell_type": "code",
   "execution_count": 77,
   "id": "expressed-price",
   "metadata": {},
   "outputs": [
    {
     "name": "stdout",
     "output_type": "stream",
     "text": [
      "shape of urgences: (250569, 25), shape of calendar: (2192, 3)\n"
     ]
    }
   ],
   "source": [
    "print(f\"shape of urgences: {df.shape}, shape of calendar: {df1.shape}\")"
   ]
  },
  {
   "cell_type": "code",
   "execution_count": 78,
   "id": "coated-endorsement",
   "metadata": {},
   "outputs": [
    {
     "data": {
      "text/html": [
       "<div>\n",
       "<style scoped>\n",
       "    .dataframe tbody tr th:only-of-type {\n",
       "        vertical-align: middle;\n",
       "    }\n",
       "\n",
       "    .dataframe tbody tr th {\n",
       "        vertical-align: top;\n",
       "    }\n",
       "\n",
       "    .dataframe thead th {\n",
       "        text-align: right;\n",
       "    }\n",
       "</style>\n",
       "<table border=\"1\" class=\"dataframe\">\n",
       "  <thead>\n",
       "    <tr style=\"text-align: right;\">\n",
       "      <th></th>\n",
       "      <th>dateT_E</th>\n",
       "      <th>dateT_S</th>\n",
       "      <th>delta_time</th>\n",
       "      <th>code</th>\n",
       "      <th>age</th>\n",
       "      <th>sex</th>\n",
       "      <th>tri</th>\n",
       "      <th>label</th>\n",
       "      <th>decision</th>\n",
       "      <th>date</th>\n",
       "      <th>...</th>\n",
       "      <th>date_S_AN</th>\n",
       "      <th>date_S_MOIS</th>\n",
       "      <th>date_S_JOUR</th>\n",
       "      <th>date_S_H</th>\n",
       "      <th>date_S_MN</th>\n",
       "      <th>tri_is_missing</th>\n",
       "      <th>identity_is_missing</th>\n",
       "      <th>sortie_is_zero</th>\n",
       "      <th>ferie_chome</th>\n",
       "      <th>school vacation</th>\n",
       "    </tr>\n",
       "  </thead>\n",
       "  <tbody>\n",
       "    <tr>\n",
       "      <th>0</th>\n",
       "      <td>2020-06-29 18:07:00</td>\n",
       "      <td>2020-06-30 20:50:00</td>\n",
       "      <td>26.72</td>\n",
       "      <td>T601</td>\n",
       "      <td>37.7</td>\n",
       "      <td>F</td>\n",
       "      <td>3</td>\n",
       "      <td>Urgence moyenne</td>\n",
       "      <td>Patient admis</td>\n",
       "      <td>2020-06-29</td>\n",
       "      <td>...</td>\n",
       "      <td>2020</td>\n",
       "      <td>6</td>\n",
       "      <td>30</td>\n",
       "      <td>20</td>\n",
       "      <td>50</td>\n",
       "      <td>0</td>\n",
       "      <td>0</td>\n",
       "      <td>0</td>\n",
       "      <td>travail</td>\n",
       "      <td>non</td>\n",
       "    </tr>\n",
       "    <tr>\n",
       "      <th>1</th>\n",
       "      <td>2019-10-05 08:05:00</td>\n",
       "      <td>2019-10-06 10:45:00</td>\n",
       "      <td>26.67</td>\n",
       "      <td>T601</td>\n",
       "      <td>26.5</td>\n",
       "      <td>F</td>\n",
       "      <td>3</td>\n",
       "      <td>Urgence moyenne</td>\n",
       "      <td>Patient non admis</td>\n",
       "      <td>2019-10-05</td>\n",
       "      <td>...</td>\n",
       "      <td>2019</td>\n",
       "      <td>10</td>\n",
       "      <td>6</td>\n",
       "      <td>10</td>\n",
       "      <td>45</td>\n",
       "      <td>0</td>\n",
       "      <td>0</td>\n",
       "      <td>0</td>\n",
       "      <td>travail</td>\n",
       "      <td>non</td>\n",
       "    </tr>\n",
       "    <tr>\n",
       "      <th>2</th>\n",
       "      <td>2017-01-21 20:30:00</td>\n",
       "      <td>2017-01-22 23:00:00</td>\n",
       "      <td>26.50</td>\n",
       "      <td>T601</td>\n",
       "      <td>25.8</td>\n",
       "      <td>M</td>\n",
       "      <td>4</td>\n",
       "      <td>Lesion stable</td>\n",
       "      <td>Patient décédé</td>\n",
       "      <td>2017-01-21</td>\n",
       "      <td>...</td>\n",
       "      <td>2017</td>\n",
       "      <td>1</td>\n",
       "      <td>22</td>\n",
       "      <td>23</td>\n",
       "      <td>00</td>\n",
       "      <td>0</td>\n",
       "      <td>0</td>\n",
       "      <td>0</td>\n",
       "      <td>travail</td>\n",
       "      <td>oui</td>\n",
       "    </tr>\n",
       "    <tr>\n",
       "      <th>3</th>\n",
       "      <td>2017-02-27 13:45:00</td>\n",
       "      <td>2017-02-28 16:00:00</td>\n",
       "      <td>26.25</td>\n",
       "      <td>T601</td>\n",
       "      <td>58.5</td>\n",
       "      <td>M</td>\n",
       "      <td>3</td>\n",
       "      <td>Urgence moyenne</td>\n",
       "      <td>Patient admis</td>\n",
       "      <td>2017-02-27</td>\n",
       "      <td>...</td>\n",
       "      <td>2017</td>\n",
       "      <td>2</td>\n",
       "      <td>28</td>\n",
       "      <td>16</td>\n",
       "      <td>00</td>\n",
       "      <td>0</td>\n",
       "      <td>0</td>\n",
       "      <td>0</td>\n",
       "      <td>travail</td>\n",
       "      <td>non</td>\n",
       "    </tr>\n",
       "    <tr>\n",
       "      <th>4</th>\n",
       "      <td>2017-01-05 12:40:00</td>\n",
       "      <td>2017-01-06 14:49:00</td>\n",
       "      <td>26.15</td>\n",
       "      <td>T601</td>\n",
       "      <td>66.4</td>\n",
       "      <td>M</td>\n",
       "      <td>4</td>\n",
       "      <td>Lesion stable</td>\n",
       "      <td>Patient admis</td>\n",
       "      <td>2017-01-05</td>\n",
       "      <td>...</td>\n",
       "      <td>2017</td>\n",
       "      <td>1</td>\n",
       "      <td>6</td>\n",
       "      <td>14</td>\n",
       "      <td>49</td>\n",
       "      <td>0</td>\n",
       "      <td>0</td>\n",
       "      <td>0</td>\n",
       "      <td>FERIE</td>\n",
       "      <td>non</td>\n",
       "    </tr>\n",
       "  </tbody>\n",
       "</table>\n",
       "<p>5 rows × 27 columns</p>\n",
       "</div>"
      ],
      "text/plain": [
       "              dateT_E             dateT_S  delta_time  code   age sex  tri  \\\n",
       "0 2020-06-29 18:07:00 2020-06-30 20:50:00       26.72  T601  37.7   F    3   \n",
       "1 2019-10-05 08:05:00 2019-10-06 10:45:00       26.67  T601  26.5   F    3   \n",
       "2 2017-01-21 20:30:00 2017-01-22 23:00:00       26.50  T601  25.8   M    4   \n",
       "3 2017-02-27 13:45:00 2017-02-28 16:00:00       26.25  T601  58.5   M    3   \n",
       "4 2017-01-05 12:40:00 2017-01-06 14:49:00       26.15  T601  66.4   M    4   \n",
       "\n",
       "             label           decision       date  ...  date_S_AN  date_S_MOIS  \\\n",
       "0  Urgence moyenne      Patient admis 2020-06-29  ...       2020            6   \n",
       "1  Urgence moyenne  Patient non admis 2019-10-05  ...       2019           10   \n",
       "2    Lesion stable     Patient décédé 2017-01-21  ...       2017            1   \n",
       "3  Urgence moyenne      Patient admis 2017-02-27  ...       2017            2   \n",
       "4    Lesion stable      Patient admis 2017-01-05  ...       2017            1   \n",
       "\n",
       "   date_S_JOUR  date_S_H  date_S_MN  tri_is_missing identity_is_missing  \\\n",
       "0           30        20         50               0                   0   \n",
       "1            6        10         45               0                   0   \n",
       "2           22        23         00               0                   0   \n",
       "3           28        16         00               0                   0   \n",
       "4            6        14         49               0                   0   \n",
       "\n",
       "   sortie_is_zero  ferie_chome  school vacation  \n",
       "0               0      travail              non  \n",
       "1               0      travail              non  \n",
       "2               0      travail              oui  \n",
       "3               0      travail              non  \n",
       "4               0        FERIE              non  \n",
       "\n",
       "[5 rows x 27 columns]"
      ]
     },
     "execution_count": 78,
     "metadata": {},
     "output_type": "execute_result"
    }
   ],
   "source": [
    "dfinal = df.merge(right=df1, on=\"date\", how=\"left\")\n",
    "dfinal.head()"
   ]
  },
  {
   "cell_type": "code",
   "execution_count": 79,
   "id": "labeled-acoustic",
   "metadata": {},
   "outputs": [
    {
     "data": {
      "text/plain": [
       "(250569, 27)"
      ]
     },
     "execution_count": 79,
     "metadata": {},
     "output_type": "execute_result"
    }
   ],
   "source": [
    "dfinal.shape"
   ]
  },
  {
   "cell_type": "code",
   "execution_count": 80,
   "id": "positive-synthesis",
   "metadata": {},
   "outputs": [
    {
     "data": {
      "text/plain": [
       "dateT_E                0\n",
       "dateT_S                0\n",
       "delta_time             0\n",
       "code                   0\n",
       "age                    0\n",
       "sex                    0\n",
       "tri                    0\n",
       "label                  0\n",
       "decision               0\n",
       "date                   0\n",
       "year                   0\n",
       "month                  0\n",
       "day                    0\n",
       "week_day               0\n",
       "hour                   0\n",
       "min                    0\n",
       "date_S                 0\n",
       "date_S_AN              0\n",
       "date_S_MOIS            0\n",
       "date_S_JOUR            0\n",
       "date_S_H               0\n",
       "date_S_MN              0\n",
       "tri_is_missing         0\n",
       "identity_is_missing    0\n",
       "sortie_is_zero         0\n",
       "ferie_chome            0\n",
       "school vacation        0\n",
       "dtype: int64"
      ]
     },
     "execution_count": 80,
     "metadata": {},
     "output_type": "execute_result"
    }
   ],
   "source": [
    "dfinal.isna().sum()"
   ]
  },
  {
   "cell_type": "code",
   "execution_count": 84,
   "id": "advised-gasoline",
   "metadata": {},
   "outputs": [],
   "source": [
    "dfinal.to_csv('data/final_preprocess_df.csv')"
   ]
  },
  {
   "cell_type": "code",
   "execution_count": 85,
   "id": "productive-publication",
   "metadata": {},
   "outputs": [
    {
     "name": "stdout",
     "output_type": "stream",
     "text": [
      "<class 'pandas.core.frame.DataFrame'>\n",
      "Int64Index: 250569 entries, 0 to 250568\n",
      "Data columns (total 27 columns):\n",
      " #   Column               Non-Null Count   Dtype         \n",
      "---  ------               --------------   -----         \n",
      " 0   dateT_E              250569 non-null  datetime64[ns]\n",
      " 1   dateT_S              250569 non-null  datetime64[ns]\n",
      " 2   delta_time           250569 non-null  float64       \n",
      " 3   code                 250569 non-null  object        \n",
      " 4   age                  250569 non-null  float64       \n",
      " 5   sex                  250569 non-null  object        \n",
      " 6   tri                  250569 non-null  int32         \n",
      " 7   label                250569 non-null  object        \n",
      " 8   decision             250569 non-null  object        \n",
      " 9   date                 250569 non-null  datetime64[ns]\n",
      " 10  year                 250569 non-null  int64         \n",
      " 11  month                250569 non-null  int64         \n",
      " 12  day                  250569 non-null  int64         \n",
      " 13  week_day             250569 non-null  int64         \n",
      " 14  hour                 250569 non-null  int64         \n",
      " 15  min                  250569 non-null  int64         \n",
      " 16  date_S               250569 non-null  datetime64[ns]\n",
      " 17  date_S_AN            250569 non-null  int64         \n",
      " 18  date_S_MOIS          250569 non-null  int64         \n",
      " 19  date_S_JOUR          250569 non-null  int64         \n",
      " 20  date_S_H             250569 non-null  object        \n",
      " 21  date_S_MN            250569 non-null  object        \n",
      " 22  tri_is_missing       250569 non-null  int32         \n",
      " 23  identity_is_missing  250569 non-null  int32         \n",
      " 24  sortie_is_zero       250569 non-null  int32         \n",
      " 25  ferie_chome          250569 non-null  object        \n",
      " 26  school vacation      250569 non-null  object        \n",
      "dtypes: datetime64[ns](4), float64(2), int32(4), int64(9), object(8)\n",
      "memory usage: 49.7+ MB\n"
     ]
    }
   ],
   "source": [
    "dfinal.info()"
   ]
  },
  {
   "cell_type": "code",
   "execution_count": null,
   "id": "9c96de3c",
   "metadata": {},
   "outputs": [],
   "source": []
  }
 ],
 "metadata": {
  "colab": {
   "name": "rapport_06_04_2021_final.ipynb",
   "provenance": []
  },
  "kernelspec": {
   "display_name": "Python 3 (ipykernel)",
   "language": "python",
   "name": "python3"
  },
  "language_info": {
   "codemirror_mode": {
    "name": "ipython",
    "version": 3
   },
   "file_extension": ".py",
   "mimetype": "text/x-python",
   "name": "python",
   "nbconvert_exporter": "python",
   "pygments_lexer": "ipython3",
   "version": "3.9.6"
  }
 },
 "nbformat": 4,
 "nbformat_minor": 5
}
